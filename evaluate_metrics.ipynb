{
 "cells": [
  {
   "cell_type": "code",
   "execution_count": 128,
   "metadata": {
    "ExecuteTime": {
     "end_time": "2025-03-22T15:29:07.572926Z",
     "start_time": "2025-03-22T15:29:07.571733Z"
    }
   },
   "outputs": [],
   "source": [
    "import pickle\n",
    "from utils.analysis_from_interaction import *\n",
    "from egg.core.language_analysis import Disent\n",
    "from language_analysis_local import TopographicSimilarityConceptLevel, encode_target_concepts_for_topsim\n",
    "import os\n",
    "import torch"
   ]
  },
  {
   "attachments": {},
   "cell_type": "markdown",
   "metadata": {},
   "source": [
    "# calculate metrics from stored interactions"
   ]
  },
  {
   "cell_type": "code",
<<<<<<< HEAD
   "execution_count": 2,
   "metadata": {
    "ExecuteTime": {
     "end_time": "2025-01-13T11:59:14.931675Z",
     "start_time": "2025-01-13T11:59:14.858017Z"
    }
   },
=======
   "execution_count": 204,
>>>>>>> bcfbc63a8593e73b29496059eb12ed6671ee1e51
   "outputs": [],
   "source": [
    "datasets = ('(3,4)', '(3,8)', '(3,16)', '(4,4)', '(4,8)', '(5,4)')\n",
    "n_attributes = (3, 3, 3, 4, 4, 5)\n",
    "n_values = (4, 8, 16, 4, 8, 4)\n",
    "epochs = 300\n",
    "n_runs = 5\n",
<<<<<<< HEAD
    "paths = ['results/' + d + '_game_size_10_vsf_0/' for d in datasets]"
   ]
  },
  {
   "cell_type": "code",
   "execution_count": 40,
   "metadata": {
    "ExecuteTime": {
     "end_time": "2025-01-08T12:40:28.264213Z",
     "start_time": "2025-01-08T12:40:28.224174Z"
    },
    "collapsed": false
   },
   "outputs": [],
   "source": [
    "datasets = ('(3,4)', '(3,8)', '(4,4)')\n",
    "n_attributes = (3, 3, 4)\n",
    "n_values = (4, 8, 4)\n",
    "epochs = 0\n",
    "n_runs = 5\n",
    "paths = ['results/' + d + '_game_size_10_vsf_0/' for d in datasets]"
   ]
  },
  {
   "cell_type": "code",
   "execution_count": null,
   "metadata": {
    "ExecuteTime": {
     "end_time": "2025-01-14T14:42:27.172420Z",
     "start_time": "2025-01-14T14:42:26.989278Z"
    },
    "collapsed": false
   },
=======
    "vsf = 0\n",
    "if vsf == 3:\n",
    "    vocab_sizes = [16, 28, 52, 16, 28, 52]\n",
    "    paths = ['results/' + d + '_game_size_10_vsf_3/' for d in datasets]\n",
    "elif vsf == 0:\n",
    "    vocab_sizes = [5, 9, 17, 5, 9, 5]\n",
    "    paths = ['results/' + d + '_game_size_10_vsf_0/' for d in datasets]"
   ],
   "metadata": {
    "collapsed": false,
    "ExecuteTime": {
     "end_time": "2025-03-25T10:34:18.294627Z",
     "start_time": "2025-03-25T10:34:18.293591Z"
    }
   }
  },
  {
   "cell_type": "code",
   "execution_count": 96,
>>>>>>> bcfbc63a8593e73b29496059eb12ed6671ee1e51
   "outputs": [],
   "source": [
    "datasets = ('(3,4)', )\n",
    "n_attributes = (3, )\n",
    "n_values = (4, )\n",
<<<<<<< HEAD
    "epochs = 10\n",
    "n_runs = 5\n",
    "paths = ['results/' + d + '_game_size_10_vsf_0/' for d in datasets]"
   ]
  },
  {
   "cell_type": "code",
   "execution_count": 14,
   "metadata": {},
   "outputs": [],
   "source": [
    "game_size = 4\n",
    "datasets = ('shapes3d', )\n",
    "n_attributes = (3,)\n",
    "n_values = (4, )\n",
    "n_runs = 1\n",
    "paths = ['results/3dshapes/'+ d +'_feat_rep_game_size_' + str(game_size) + '_vsf_3/' for d in datasets]"
   ]
  },
  {
   "cell_type": "code",
   "execution_count": 15,
=======
    "epochs = 300\n",
    "n_runs = 5\n",
    "vsf = 0\n",
    "if vsf == 3:\n",
    "    vocab_sizes = [16, ]\n",
    "    paths = ['results/' + d + '_game_size_10_vsf_3/' for d in datasets]\n",
    "elif vsf == 0:\n",
    "    vocab_sizes = [5, ]\n",
    "    paths = ['results/' + d + '_game_size_10_vsf_0/' for d in datasets]"
   ],
   "metadata": {
    "collapsed": false,
    "ExecuteTime": {
     "end_time": "2025-03-20T14:39:23.556371Z",
     "start_time": "2025-03-20T14:39:23.507430Z"
    }
   }
  },
  {
   "cell_type": "code",
   "execution_count": 104,
   "outputs": [],
   "source": [
    "datasets = ('(3,8)', '(4,4)')\n",
    "n_attributes = (3,4)\n",
    "n_values = (8, 4)\n",
    "epochs = 0\n",
    "n_runs = 5\n",
    "vsf = 0\n",
    "if vsf == 3:\n",
    "    vocab_sizes = [28,16]\n",
    "    paths = ['results/' + d + '_game_size_10_vsf_3/' for d in datasets]\n",
    "elif vsf == 0:\n",
    "    vocab_sizes = [9,5]\n",
    "    paths = ['results/' + d + '_game_size_10_vsf_0/' for d in datasets]"
   ],
   "metadata": {
    "collapsed": false,
    "ExecuteTime": {
     "end_time": "2025-03-20T16:26:37.346716Z",
     "start_time": "2025-03-20T16:26:37.315801Z"
    }
   }
  },
  {
   "cell_type": "code",
   "execution_count": 182,
   "outputs": [],
   "source": [
    "datasets = ('(3,16)',)\n",
    "n_attributes = (3,)\n",
    "n_values = (16,)\n",
    "epochs = 300\n",
    "n_runs = 5\n",
    "vsf = 0\n",
    "if vsf == 3:\n",
    "    vocab_sizes = [52,]\n",
    "    paths = ['results/' + d + '_game_size_10_vsf_3/' for d in datasets]\n",
    "elif vsf == 0:\n",
    "    vocab_sizes = [17,]\n",
    "    paths = ['results/' + d + '_game_size_10_vsf_0/' for d in datasets]"
   ],
   "metadata": {
    "collapsed": false,
    "ExecuteTime": {
     "end_time": "2025-03-24T07:47:10.540336Z",
     "start_time": "2025-03-24T07:47:10.539642Z"
    }
   }
  },
  {
   "cell_type": "code",
   "execution_count": 199,
   "outputs": [],
   "source": [
    "datasets = ('(4,8)', '(5,4)')\n",
    "n_attributes = (4, 5)\n",
    "n_values = (8, 4)\n",
    "epochs = 300\n",
    "n_runs = 5\n",
    "vsf = 0\n",
    "if vsf == 3:\n",
    "    vocab_sizes = [28, 52]\n",
    "    paths = ['results/' + d + '_game_size_10_vsf_3/' for d in datasets]\n",
    "elif vsf == 0:\n",
    "    vocab_sizes = [9, 5]\n",
    "    paths = ['results/' + d + '_game_size_10_vsf_0/' for d in datasets]"
   ],
   "metadata": {
    "collapsed": false,
    "ExecuteTime": {
     "end_time": "2025-03-24T10:18:42.024368Z",
     "start_time": "2025-03-24T10:18:42.000534Z"
    }
   }
  },
  {
   "cell_type": "code",
   "execution_count": 207,
>>>>>>> bcfbc63a8593e73b29496059eb12ed6671ee1e51
   "metadata": {
    "ExecuteTime": {
     "end_time": "2025-03-25T10:34:46.953898Z",
     "start_time": "2025-03-25T10:34:46.918810Z"
    }
   },
   "outputs": [],
   "source": [
    "context_unaware = True # whether original or context_unaware simulations are evaluated\n",
    "zero_shot = False # whether zero-shot simulations are evaluated\n",
    "zero_shot_test = 'specific' # 'generic' or 'specific'\n",
    "test_interactions = False # whether scores should be calculated on test interactions\n",
    "test_mode = 'test' # 'test' or 'test_fine' or 'test_sampled_unscaled' or 'test_load_train'\n",
    "length_cost = True # whether length_cost was applied; length cost runs have been run with early stopping\n",
    "early_stopping = True # only with length cost and sampled context\n",
    "rsa = False \n",
<<<<<<< HEAD
    "rsa_test = 'testtrain'\n",
    "sampled_context = False\n",
    "shapes3d = True\n",
=======
    "rsa_test = 'testtrainmixed' # 'testtrain' for RSA tests on the test dataset, utterances are sampled from interactions during training\n",
    "sampled_context = False\n",
    "hierarchical = False\n",
    "shared_context = True\n",
    "if rsa or test_interactions:\n",
    "    is_gumbel = False\n",
    "else:\n",
    "    is_gumbel = True\n",
>>>>>>> bcfbc63a8593e73b29496059eb12ed6671ee1e51
    "setting = \"\"\n",
    "if length_cost:\n",
    "    setting = setting + 'length_cost/'\n",
    "    if not context_unaware:\n",
    "        setting = setting + 'context_aware'\n",
    "if context_unaware:\n",
    "    setting = setting + 'context_unaware'\n",
    "else:\n",
    "    if not length_cost:\n",
    "        setting = setting + 'standard'\n",
    "if hierarchical:\n",
    "    setting = setting + '/hierarchical'\n",
    "if shared_context:\n",
    "    setting = setting + '/shared_context'\n",
    "if zero_shot:\n",
    "    setting = setting + '/zero_shot/' + zero_shot_test\n",
    "elif sampled_context:\n",
    "    setting = setting + '/sampled_context'"
   ]
  },
  {
   "cell_type": "code",
<<<<<<< HEAD
   "execution_count": null,
   "metadata": {
    "ExecuteTime": {
     "end_time": "2025-01-14T14:42:32.677339Z",
     "start_time": "2025-01-14T14:42:32.531744Z"
    },
    "collapsed": false
   },
=======
   "execution_count": 208,
>>>>>>> bcfbc63a8593e73b29496059eb12ed6671ee1e51
   "outputs": [],
   "source": [
    "# get n_epochs if early stopping\n",
    "# debug this for 3dshapes should be able to get rid of rid clauses\n",
    "if early_stopping:\n",
    "    \n",
    "    n_epochs_all_data = []\n",
    "    for d in range(len(datasets)):\n",
    "        \n",
    "        n_epochs = []\n",
    "        \n",
<<<<<<< HEAD
    "        for run in range(n_runs):\n",
    "            \n",
    "            if shapes3d == True:\n",
    "                path_to_run = paths[d] + str(setting) +'/' + str(run) + '/'\n",
=======
    "        for run in range(0, n_runs):\n",
    "    \n",
>>>>>>> bcfbc63a8593e73b29496059eb12ed6671ee1e51
    "            path_to_run = paths[d] + str(setting) +'/' + str(run) + '/' \n",
    "            \n",
    "            with open(os.path.join(path_to_run, 'loss_and_metrics.pkl'), 'rb') as input_file:\n",
    "                data = pickle.load(input_file)\n",
    "                final_epoch = max(data['loss_train'].keys())\n",
    "                n_epochs.append(final_epoch)\n",
    "                \n",
    "        n_epochs_all_data.append(n_epochs)\n",
    "        \n",
    "else:\n",
    "    n_epochs_all_data = []\n",
    "    for d in range(len(datasets)):\n",
    "        n_epochs = []\n",
    "        \n",
    "        for run in range(n_runs):\n",
    "            n_epochs.append(epochs)\n",
    "                \n",
    "        n_epochs_all_data.append(n_epochs)\n",
    "            "
<<<<<<< HEAD
   ]
=======
   ],
   "metadata": {
    "collapsed": false,
    "ExecuteTime": {
     "end_time": "2025-03-25T10:34:47.915821Z",
     "start_time": "2025-03-25T10:34:47.888105Z"
    }
   }
  },
  {
   "cell_type": "code",
   "execution_count": 145,
   "outputs": [
    {
     "data": {
      "text/plain": "[[1, 41, 169, 65, 36], [44, 45, 31, 56, 136], [30, 34, 48, 26, 51]]"
     },
     "execution_count": 145,
     "metadata": {},
     "output_type": "execute_result"
    }
   ],
   "source": [
    "n_epochs_all_data"
   ],
   "metadata": {
    "collapsed": false,
    "ExecuteTime": {
     "end_time": "2025-03-22T16:35:42.785943Z",
     "start_time": "2025-03-22T16:35:42.758643Z"
    }
   }
  },
  {
   "cell_type": "code",
   "execution_count": 146,
   "outputs": [],
   "source": [
    "n_epochs_all_data[0][0] = 300"
   ],
   "metadata": {
    "collapsed": false,
    "ExecuteTime": {
     "end_time": "2025-03-22T16:35:51.275042Z",
     "start_time": "2025-03-22T16:35:51.230328Z"
    }
   }
>>>>>>> bcfbc63a8593e73b29496059eb12ed6671ee1e51
  },
  {
   "attachments": {},
   "cell_type": "markdown",
   "metadata": {},
   "source": [
    "## entropy scores: MI, effectiveness, efficiency"
   ]
  },
  {
   "cell_type": "code",
<<<<<<< HEAD
   "execution_count": 18,
=======
   "execution_count": 202,
>>>>>>> bcfbc63a8593e73b29496059eb12ed6671ee1e51
   "metadata": {
    "ExecuteTime": {
     "end_time": "2025-03-24T10:19:07.400715Z",
     "start_time": "2025-03-24T10:18:45.265181Z"
    }
   },
<<<<<<< HEAD
   "outputs": [
    {
     "name": "stdout",
     "output_type": "stream",
     "text": []
    }
   ],
=======
   "outputs": [],
>>>>>>> bcfbc63a8593e73b29496059eb12ed6671ee1e51
   "source": [
    "for d in range(len(datasets)):\n",
    "    \n",
    "    n_epochs = n_epochs_all_data[d]\n",
    "    \n",
    "    for run in range(0, n_runs):\n",
    "\n",
    "        path_to_run = paths[d] + str(setting) +'/' + str(run) + '/' \n",
    "        if not rsa:\n",
    "            if not test_interactions:\n",
    "                if shapes3d == True:\n",
    "                    path_to_interaction = (path_to_run + 'interactions/train/epoch_10/interaction_gpu0')\n",
    "                else:\n",
    "                    path_to_interaction = (path_to_run + 'interactions/train/epoch_' + str(n_epochs[run]) + '/interaction_gpu0')\n",
    "            else:\n",
    "                path_to_interaction = (path_to_run + 'interactions/' + test_mode + '/epoch_0/interaction_gpu0')\n",
    "        else:\n",
    "            path_to_interaction = (path_to_run + 'interactions/rsa_' + rsa_test + '/epoch_0/interaction_gpu0')\n",
    "\n",
    "        interaction = torch.load(path_to_interaction)\n",
    "\n",
    "        attributes = n_attributes[d]\n",
    "        values = n_values[d]\n",
    "        scores = information_scores(interaction, attributes, values, normalizer=\"arithmetic\", is_gumbel=is_gumbel, trim_eos=True, max_mess_len=21)   \n",
    "    \n",
    "        if not rsa:\n",
    "            if not test_interactions:\n",
    "                pickle.dump(scores, open(path_to_run + 'entropy_scores.pkl', 'wb'))\n",
    "            else:\n",
    "                pickle.dump(scores, open(path_to_run + 'entropy_scores_' + test_mode + '.pkl', 'wb'))\n",
    "        else:\n",
    "            pickle.dump(scores, open(path_to_run + 'entropy_scores_rsa_' + rsa_test + '.pkl', 'wb'))"
   ]
  },
  {
   "attachments": {},
   "cell_type": "markdown",
   "metadata": {},
   "source": [
    "##  message length"
   ]
  },
  {
   "cell_type": "code",
<<<<<<< HEAD
   "execution_count": 19,
=======
   "execution_count": 203,
>>>>>>> bcfbc63a8593e73b29496059eb12ed6671ee1e51
   "metadata": {
    "ExecuteTime": {
     "end_time": "2025-03-24T10:19:24.840445Z",
     "start_time": "2025-03-24T10:19:07.402641Z"
    }
   },
   "outputs": [
    {
     "name": "stdout",
     "output_type": "stream",
     "text": []
    }
   ],
   "source": [
    "# we evaluated message length per hierarchy level after training but \n",
    "# you can also use the HierarchicalMessageLength callback and store the results \n",
    "\n",
    "for d in range(len(datasets)):\n",
    "    \n",
    "    n_epochs = n_epochs_all_data[d]\n",
    "    \n",
    "    for run in range(0, n_runs): \n",
    "        \n",
    "        path_to_run = paths[d] + str(setting) +'/' + str(run) + '/'\n",
    "        if not rsa:\n",
<<<<<<< HEAD
    "            if shapes3d == True:\n",
    "                    path_to_interaction = (path_to_run + 'interactions/train/epoch_10/interaction_gpu0')\n",
    "            else:\n",
    "                path_to_interaction = (path_to_run + 'interactions/train/epoch_' + str(n_epochs[run]) + '/interaction_gpu0')\n",
=======
    "            if not test_interactions:\n",
    "                path_to_interaction = (path_to_run + 'interactions/train/epoch_' + str(n_epochs[run]) + '/interaction_gpu0')\n",
    "            else:\n",
    "                path_to_interaction = (path_to_run + 'interactions/' + test_mode + '/epoch_0/interaction_gpu0')\n",
>>>>>>> bcfbc63a8593e73b29496059eb12ed6671ee1e51
    "        else:\n",
    "            path_to_interaction = (path_to_run + 'interactions/rsa_' + rsa_test + '/epoch_0' + '/interaction_gpu0')\n",
    "            \n",
    "        interaction = torch.load(path_to_interaction)\n",
    "\n",
    "        attributes = n_attributes[d]\n",
    "        values = n_values[d]\n",
    "        ml, ml_concept = message_length_per_hierarchy_level(interaction, attributes)\n",
    "        ml_context, ml_fine_context, ml_coarse_context = message_length_per_context_condition(interaction, attributes)\n",
    "        scores = {'ml_over_context': ml_context, 'ml_fine_context': ml_fine_context, 'ml_coarse_context': ml_coarse_context}\n",
    "        \n",
    "        if not rsa:\n",
    "            if not test_interactions:\n",
    "                pickle.dump(ml, open(path_to_run + 'message_length.pkl', 'wb'))\n",
    "                pickle.dump(ml_concept, open(path_to_run + 'message_length_hierarchical.pkl', 'wb'))\n",
    "                pickle.dump(scores, open(path_to_run + 'message_length_over_context.pkl', 'wb'))\n",
    "            else:\n",
    "                pickle.dump(ml, open(path_to_run + 'message_length_' + test_mode + '.pkl', 'wb'))\n",
    "                pickle.dump(ml_concept, open(path_to_run + 'message_length_hierarchical_' + test_mode + '.pkl', 'wb'))\n",
    "                pickle.dump(scores, open(path_to_run + 'message_length_over_context_' + test_mode + '.pkl', 'wb'))            \n",
    "        else:\n",
    "            pickle.dump(ml, open(path_to_run + 'message_length_rsa_' + rsa_test + '.pkl', 'wb'))\n",
    "            pickle.dump(ml_concept, open(path_to_run + 'message_length_hierarchical_rsa_' + rsa_test + '.pkl', 'wb'))\n",
    "            pickle.dump(scores, open(path_to_run + 'message_length_over_context_rsa_' + rsa_test + '.pkl', 'wb'))"
   ]
  },
  {
   "cell_type": "markdown",
   "source": [
    "## lexicon properties"
   ],
   "metadata": {
    "collapsed": false
   }
  },
  {
   "cell_type": "code",
   "execution_count": 209,
   "outputs": [
    {
     "name": "stdout",
     "output_type": "stream",
     "text": [
      "(3,4)\n",
      "{'lexicon informativeness': nan, 'lexicon size': 742, 'number of concepts': 742}\n",
      "{'lexicon informativeness': nan, 'lexicon size': 742, 'number of concepts': 742}\n",
      "{'lexicon informativeness': nan, 'lexicon size': 742, 'number of concepts': 742}\n",
      "{'lexicon informativeness': nan, 'lexicon size': 742, 'number of concepts': 742}\n",
      "{'lexicon informativeness': nan, 'lexicon size': 742, 'number of concepts': 742}\n",
      "(3,8)\n"
     ]
    },
    {
     "ename": "KeyboardInterrupt",
     "evalue": "",
     "output_type": "error",
     "traceback": [
      "\u001B[0;31m---------------------------------------------------------------------------\u001B[0m",
      "\u001B[0;31mKeyboardInterrupt\u001B[0m                         Traceback (most recent call last)",
      "Cell \u001B[0;32mIn [209], line 20\u001B[0m\n\u001B[1;32m     16\u001B[0m     path_to_interaction \u001B[38;5;241m=\u001B[39m (path_to_run \u001B[38;5;241m+\u001B[39m \u001B[38;5;124m'\u001B[39m\u001B[38;5;124minteractions/rsa_\u001B[39m\u001B[38;5;124m'\u001B[39m \u001B[38;5;241m+\u001B[39m rsa_test \u001B[38;5;241m+\u001B[39m \u001B[38;5;124m'\u001B[39m\u001B[38;5;124m/epoch_0/interaction_gpu0\u001B[39m\u001B[38;5;124m'\u001B[39m)\n\u001B[1;32m     18\u001B[0m interaction \u001B[38;5;241m=\u001B[39m torch\u001B[38;5;241m.\u001B[39mload(path_to_interaction)\n\u001B[0;32m---> 20\u001B[0m lex_info, unique_messages, num_concepts \u001B[38;5;241m=\u001B[39m \u001B[43minformativeness_score\u001B[49m\u001B[43m(\u001B[49m\u001B[43minteraction\u001B[49m\u001B[43m,\u001B[49m\u001B[43m \u001B[49m\u001B[43mdistance\u001B[49m\u001B[38;5;241;43m=\u001B[39;49m\u001B[43mdistance\u001B[49m\u001B[43m)\u001B[49m\n\u001B[1;32m     21\u001B[0m scores \u001B[38;5;241m=\u001B[39m {\u001B[38;5;124m'\u001B[39m\u001B[38;5;124mlexicon informativeness\u001B[39m\u001B[38;5;124m'\u001B[39m: lex_info, \u001B[38;5;124m'\u001B[39m\u001B[38;5;124mlexicon size\u001B[39m\u001B[38;5;124m'\u001B[39m: unique_messages, \u001B[38;5;124m'\u001B[39m\u001B[38;5;124mnumber of concepts\u001B[39m\u001B[38;5;124m'\u001B[39m: num_concepts}\n\u001B[1;32m     22\u001B[0m \u001B[38;5;28mprint\u001B[39m(scores)\n",
      "File \u001B[0;32m~/Projects/phdproject1/emergent-abstractions/utils/analysis_from_interaction.py:927\u001B[0m, in \u001B[0;36minformativeness_score\u001B[0;34m(interaction, distance)\u001B[0m\n\u001B[1;32m    925\u001B[0m referents \u001B[38;5;241m=\u001B[39m []\n\u001B[1;32m    926\u001B[0m \u001B[38;5;28;01mfor\u001B[39;00m j, idx \u001B[38;5;129;01min\u001B[39;00m \u001B[38;5;28menumerate\u001B[39m(message_indices):\n\u001B[0;32m--> 927\u001B[0m     \u001B[38;5;28;01mif\u001B[39;00m \u001B[43midx\u001B[49m\u001B[43m \u001B[49m\u001B[38;5;241;43m==\u001B[39;49m\u001B[43m \u001B[49m\u001B[43mi\u001B[49m:\n\u001B[1;32m    928\u001B[0m         \u001B[38;5;66;03m# subset :10 to only consider targets, not distractors\u001B[39;00m\n\u001B[1;32m    929\u001B[0m         referents\u001B[38;5;241m.\u001B[39mappend(interaction\u001B[38;5;241m.\u001B[39msender_input[j][:\u001B[38;5;241m10\u001B[39m])\n\u001B[1;32m    930\u001B[0m \u001B[38;5;28;01mif\u001B[39;00m \u001B[38;5;28mlen\u001B[39m(referents) \u001B[38;5;241m>\u001B[39m \u001B[38;5;241m1\u001B[39m:\n\u001B[1;32m    931\u001B[0m     \u001B[38;5;66;03m# compute pairwise distances between referents\u001B[39;00m\n\u001B[1;32m    932\u001B[0m     \u001B[38;5;66;03m# (e.g. (_,2,1) is more similar to (_,1,1) than to (_,1,3) or to (_,_,3))\u001B[39;00m\n",
      "\u001B[0;31mKeyboardInterrupt\u001B[0m: "
     ]
    }
   ],
   "source": [
    "distance = 'manhattan' # 'manhattan' or 'euclidean'\n",
    "for d in range(len(datasets)):\n",
    "    print(datasets[d])\n",
    "    \n",
    "    n_epochs = n_epochs_all_data[d]\n",
    "    \n",
    "    for run in range(n_runs): \n",
    "        \n",
    "        path_to_run = paths[d] + str(setting) +'/' + str(run) + '/'\n",
    "        if not rsa:\n",
    "            if not test_interactions:\n",
    "                path_to_interaction = (path_to_run + 'interactions/train/epoch_' + str(n_epochs[run]) + '/interaction_gpu0')\n",
    "            else:\n",
    "                path_to_interaction = (path_to_run + 'interactions/' + test_mode + '/epoch_0/interaction_gpu0')\n",
    "        else:\n",
    "            path_to_interaction = (path_to_run + 'interactions/rsa_' + rsa_test + '/epoch_0/interaction_gpu0')\n",
    "            \n",
    "        interaction = torch.load(path_to_interaction)\n",
    "\n",
    "        lex_info, unique_messages, num_concepts = informativeness_score(interaction, distance=distance)\n",
    "        scores = {'lexicon informativeness': lex_info, 'lexicon size': unique_messages, 'number of concepts': num_concepts}\n",
    "        print(scores)\n",
    "\n",
    "        if not rsa:\n",
    "            if not test_interactions:\n",
    "                pickle.dump(scores, open(path_to_run + 'lexicon_properties_' + distance + '.pkl', 'wb'))\n",
    "            else:\n",
    "                pickle.dump(scores, open(path_to_run + 'lexicon_properties_' + distance + '_' + test_mode  + '.pkl', 'wb'))\n",
    "        else:\n",
    "            pickle.dump(scores, open(path_to_run + 'lexicon_properties_' + distance + '_rsa_' + rsa_test + '.pkl', 'wb'))"
   ],
   "metadata": {
    "collapsed": false,
    "ExecuteTime": {
     "end_time": "2025-03-25T10:35:12.383127Z",
     "start_time": "2025-03-25T10:34:50.840371Z"
    }
   }
  },
  {
   "attachments": {},
   "cell_type": "markdown",
   "metadata": {},
   "source": [
    "##  symbol redundancy"
   ]
  },
  {
   "cell_type": "code",
<<<<<<< HEAD
   "execution_count": 20,
=======
   "execution_count": 95,
>>>>>>> bcfbc63a8593e73b29496059eb12ed6671ee1e51
   "metadata": {
    "ExecuteTime": {
     "end_time": "2025-03-20T13:57:13.478625Z",
     "start_time": "2025-03-20T13:57:12.779556Z"
    }
   },
   "outputs": [
    {
     "name": "stdout",
     "output_type": "stream",
<<<<<<< HEAD
     "text": []
    },
    {
     "name": "stdout",
     "output_type": "stream",
     "text": []
    },
    {
     "name": "stdout",
     "output_type": "stream",
     "text": []
=======
     "text": [
      "/Users/kkobrock/Projects/phdproject1/emergent-abstractions/utils/analysis_from_interaction.py:705: RuntimeWarning: invalid value encountered in divide\n",
      "  return symbol_frequency / att_val_frequency, mutual_information\n",
      "/Users/kkobrock/Projects/phdproject1/emergent-abstractions/utils/analysis_from_interaction.py:705: RuntimeWarning: invalid value encountered in divide\n",
      "  return symbol_frequency / att_val_frequency, mutual_information\n",
      "/Users/kkobrock/Projects/phdproject1/emergent-abstractions/utils/analysis_from_interaction.py:705: RuntimeWarning: invalid value encountered in divide\n",
      "  return symbol_frequency / att_val_frequency, mutual_information\n",
      "/Users/kkobrock/Projects/phdproject1/emergent-abstractions/utils/analysis_from_interaction.py:705: RuntimeWarning: invalid value encountered in divide\n",
      "  return symbol_frequency / att_val_frequency, mutual_information\n",
      "/Users/kkobrock/Projects/phdproject1/emergent-abstractions/utils/analysis_from_interaction.py:705: RuntimeWarning: invalid value encountered in divide\n",
      "  return symbol_frequency / att_val_frequency, mutual_information\n"
     ]
>>>>>>> bcfbc63a8593e73b29496059eb12ed6671ee1e51
    }
   ],
   "source": [
    "for d in range(len(datasets)):\n",
    "    \n",
    "    n_epochs = n_epochs_all_data[d]\n",
    "    \n",
    "    attributes = n_attributes[d]\n",
    "    values = n_values[d]\n",
    "    vocab_size = vocab_sizes[d]\n",
    "    \n",
    "    for run in range(n_runs): \n",
    "                \n",
    "        path_to_run = paths[d] + str(setting) +'/' + str(run) + '/'\n",
    "        if not rsa:\n",
    "            if not test_interactions:\n",
    "                if shapes3d == True:\n",
    "                    path_to_interaction = (path_to_run + 'interactions/train/epoch_10/interaction_gpu0')\n",
    "                else:\n",
    "                    path_to_interaction = (path_to_run + 'interactions/train/epoch_' + str(n_epochs[run]) + '/interaction_gpu0')\n",
    "            else:\n",
    "                path_to_interaction = (path_to_run + 'interactions/' + test_mode + '/epoch_0/interaction_gpu0')\n",
    "        else:\n",
    "            path_to_interaction = (path_to_run + 'interactions/rsa_' + rsa_test + '/epoch_0/interaction_gpu0')\n",
    "        interaction = torch.load(path_to_interaction)\n",
    "        redundancy, MI = symbol_frequency(interaction, attributes, values, vocab_size)\n",
    "        \n",
    "        scores = {'symbol_redundancy': redundancy, 'MI_symbol-attribute_value': MI}\n",
    "        \n",
    "        if not rsa:\n",
    "            if not test_interactions:\n",
    "                pickle.dump(scores, open(path_to_run + 'symbol_redundancy.pkl', 'wb'))\n",
    "            else:\n",
    "                pickle.dump(scores, open(path_to_run + 'symbol_redundancy_' + test_mode + '.pkl', 'wb'))\n",
    "        else:\n",
    "            pickle.dump(scores, open(path_to_run + 'symbol_redundancy_rsa_' + rsa_test + '.pkl', 'wb'))"
   ]
  },
  {
   "attachments": {},
   "cell_type": "markdown",
   "metadata": {},
   "source": [
    "##  compositionality scores: topsim, posdis, bosdis"
   ]
  },
  {
   "cell_type": "markdown",
   "metadata": {
    "collapsed": false
   },
   "source": [
    "### topsim"
   ]
  },
  {
   "cell_type": "code",
<<<<<<< HEAD
   "execution_count": 21,
=======
   "execution_count": 102,
>>>>>>> bcfbc63a8593e73b29496059eb12ed6671ee1e51
   "metadata": {
    "ExecuteTime": {
<<<<<<< HEAD
     "end_time": "2025-01-06T15:25:58.281682Z",
     "start_time": "2025-01-06T15:25:58.219778Z"
    },
    "scrolled": true
=======
     "end_time": "2025-03-20T14:52:40.018513Z",
     "start_time": "2025-03-20T14:45:38.197230Z"
    }
>>>>>>> bcfbc63a8593e73b29496059eb12ed6671ee1e51
   },
   "outputs": [
    {
     "name": "stdout",
     "output_type": "stream",
<<<<<<< HEAD
     "text": []
    },
    {
     "name": "stdout",
     "output_type": "stream",
     "text": []
    },
    {
     "name": "stdout",
     "output_type": "stream",
     "text": []
=======
     "text": [
      "dataset (3,4) run 0\n",
      "... topsim computed\n",
      "... topsim computed\n",
      "{'topsim_train': 0.1722713793139702, 'topsim_specific_train': 0.1807396955211413, 'topsim_generic_train': 0.20757333373337575, 'topsim_val': 0.15958917050286012, 'topsim_specific_val': 0.2018166777861541, 'topsim_generic_val': 0.1492896365544714}\n",
      "dataset (3,4) run 1\n",
      "... topsim computed\n",
      "... topsim computed\n",
      "{'topsim_train': 0.18948264947930848, 'topsim_specific_train': 0.20810605059521692, 'topsim_generic_train': 0.13773017420723788, 'topsim_val': 0.16497707180925605, 'topsim_specific_val': 0.20688069802647163, 'topsim_generic_val': 0.09452930075446025}\n",
      "dataset (3,4) run 2\n",
      "... topsim computed\n",
      "... topsim computed\n",
      "{'topsim_train': 0.20925988041822158, 'topsim_specific_train': 0.21721522942584634, 'topsim_generic_train': 0.1623523671780775, 'topsim_val': 0.19311371048882245, 'topsim_specific_val': 0.19424749322313073, 'topsim_generic_val': 0.12531673054886083}\n",
      "dataset (3,4) run 3\n",
      "... topsim computed\n",
      "... topsim computed\n",
      "{'topsim_train': 0.18536712560374213, 'topsim_specific_train': 0.1991208202867398, 'topsim_generic_train': 0.16796398844879196, 'topsim_val': 0.19020168999507572, 'topsim_specific_val': 0.24362443115061685, 'topsim_generic_val': 0.08711753022500802}\n",
      "dataset (3,4) run 4\n",
      "... topsim computed\n",
      "... topsim computed\n",
      "{'topsim_train': 0.2135319103987365, 'topsim_specific_train': 0.20796657354826217, 'topsim_generic_train': 0.13227675631664446, 'topsim_val': 0.19652968569042695, 'topsim_specific_val': 0.24145411144034207, 'topsim_generic_val': 0.1295149005130234}\n"
     ]
>>>>>>> bcfbc63a8593e73b29496059eb12ed6671ee1e51
    }
   ],
   "source": [
    "# topsim for train and validation\n",
    "# although topsim values are stored throughout training if callbacks are verbose, we reevaluate the\n",
    "# final topsim scores with more data points \n",
    "# not yet implemented for rsa\n",
    "\n",
    "samples = 5000 # maybe shuffle from these because otherwise I just take the first 5,000 (which might not be the best)\n",
    "for d, dataset in enumerate(datasets):\n",
    "    \n",
    "    n_epochs = n_epochs_all_data[d]\n",
    "    \n",
    "    dim = [n_values[d]]*n_attributes[d]\n",
    "    \n",
    "    for run in range(n_runs):\n",
    "        print(\"dataset\", dataset, \"run\", run)\n",
    "        \n",
    "        topsim_final = {}\n",
    "        path_to_run = paths[d] + str(setting) +'/' + str(run) + '/'\n",
    "        if shapes3d == True:\n",
    "            path_to_interaction_train = (path_to_run + 'interactions/train/epoch_10/interaction_gpu0')\n",
    "            path_to_interaction_val = (path_to_run + 'interactions/validation/epoch_10/interaction_gpu0')\n",
    "        else:\n",
    "            path_to_interaction_train = (path_to_run + 'interactions/train/epoch_' + str(n_epochs[run]) + '/interaction_gpu0')\n",
    "            path_to_interaction_val = (path_to_run + 'interactions/validation/epoch_' + str(n_epochs[run]) + '/interaction_gpu0')\n",
    "        \n",
    "        TOPSIM = TopographicSimilarityConceptLevel(dim, is_gumbel=True)\n",
    "        \n",
    "        for mode in ['train', 'val']:\n",
    "\n",
    "            if mode == 'train':\n",
    "                interaction = torch.load(path_to_interaction_train)\n",
    "            elif mode == 'val':\n",
    "                interaction = torch.load(path_to_interaction_val)\n",
    "                  \n",
    "            messages = interaction.message.argmax(dim=-1)\n",
    "            sender_input = interaction.sender_input\n",
    "            n_targets = int(sender_input.shape[1]/2)\n",
    "            # get target objects and fixed vectors to re-construct concepts\n",
    "            target_objects = sender_input[:, :n_targets]\n",
    "            target_objects = k_hot_to_attributes(target_objects, n_values[d])\n",
    "            # concepts are defined by a list of target objects (here one sampled target object) and a fixed vector\n",
    "            (objects, fixed) = retrieve_concepts_sampling(target_objects)\n",
    "            # add one such that zero becomes an empty attribute for the calculation (_)\n",
    "            objects = objects + 1\n",
    "            concepts = torch.from_numpy(objects * (np.array(fixed)))\n",
    "            specific_idx = np.where(np.sum(fixed, axis=1)==n_attributes[d])[0]\n",
    "            messages_specific = messages[specific_idx]\n",
    "            concepts_specific = concepts[specific_idx]\n",
    "            \n",
    "            generic_idx = np.where(np.sum(fixed, axis=1)==1)[0]\n",
    "            messages_generic = messages[generic_idx]\n",
    "            concepts_generic = concepts[generic_idx]\n",
    "\n",
    "            messages = [msg.tolist() for msg in messages]\n",
    "            messages_specific = [msg.tolist() for msg in messages_specific]\n",
    "            messages_generic = [msg.tolist() for msg in messages_generic]\n",
    "\n",
    "            encoded_input = encode_target_concepts_for_topsim(sender_input)\n",
    "\n",
    "            topsim = TOPSIM.compute_topsim(encoded_input[0:samples], messages[0:samples]) # default: hausdorff distance\n",
    "            \n",
    "            if not zero_shot:\n",
    "                topsim_specific = TOPSIM.compute_topsim(concepts_specific[0:samples], messages_specific[0:samples], \n",
    "                                                            meaning_distance_fn=\"edit\")\n",
    "                \n",
    "                topsim_generic = TOPSIM.compute_topsim(concepts_generic[0:samples], messages_generic[0:samples],\n",
    "                                                       meaning_distance_fn=\"edit\")\n",
    "\n",
    "            print('... topsim computed')\n",
    "\n",
    "            topsim_final['topsim_' + mode] = topsim\n",
    "            if not zero_shot:\n",
    "                topsim_final['topsim_specific_' + mode] = topsim_specific\n",
    "                topsim_final['topsim_generic_' + mode] = topsim_generic\n",
    "        \n",
    "        pickle.dump(topsim_final, open(path_to_run +  \"topsim_final.pkl\", \"wb\" ) )\n",
    "        print(topsim_final)        "
   ]
  },
  {
   "cell_type": "code",
<<<<<<< HEAD
   "execution_count": 22,
   "metadata": {
    "ExecuteTime": {
     "end_time": "2024-12-19T10:21:03.603562Z",
     "start_time": "2024-12-19T10:21:03.427678Z"
    },
    "collapsed": false
   },
=======
   "execution_count": null,
>>>>>>> bcfbc63a8593e73b29496059eb12ed6671ee1e51
   "outputs": [],
   "source": [
    "# topsim for test interactions\n",
    "\n",
    "if test_interactions:\n",
    "\n",
    "    samples = 5000 \n",
    "    for d, dataset in enumerate(datasets):\n",
    "        \n",
    "        n_epochs = n_epochs_all_data[d]\n",
    "        \n",
    "        dim = [n_values[d]]*n_attributes[d]\n",
    "        \n",
    "        for run in range(n_runs):\n",
    "            print(\"dataset\", dataset, \"run\", run)\n",
    "            \n",
    "            topsim_final = {}\n",
    "            path_to_run = paths[d] + str(setting) +'/' + str(run) + '/'\n",
    "            mode = 'test'\n",
    "            path_to_interaction_test = (path_to_run + 'interactions/' + test_mode + '/epoch_0/interaction_gpu0')\n",
    "            \n",
    "            TOPSIM = TopographicSimilarityConceptLevel(dim, is_gumbel=True)\n",
    "            \n",
    "            interaction = torch.load(path_to_interaction_test)\n",
    "                      \n",
    "            messages = interaction.message.argmax(dim=-1)\n",
    "            sender_input = interaction.sender_input\n",
    "            n_targets = int(sender_input.shape[1]/2)\n",
    "            # get target objects and fixed vectors to re-construct concepts\n",
    "            target_objects = sender_input[:, :n_targets]\n",
    "            target_objects = k_hot_to_attributes(target_objects, n_values[d])\n",
    "            # concepts are defined by a list of target objects (here one sampled target object) and a fixed vector\n",
    "            (objects, fixed) = retrieve_concepts_sampling(target_objects)\n",
    "            # add one such that zero becomes an empty attribute for the calculation (_)\n",
    "            objects = objects + 1\n",
    "            concepts = torch.from_numpy(objects * (np.array(fixed)))\n",
    "\n",
    "            messages = [msg.tolist() for msg in messages]\n",
    "\n",
    "            encoded_input = encode_target_concepts_for_topsim(sender_input)\n",
    "\n",
    "            topsim = TOPSIM.compute_topsim(encoded_input[0:samples], messages[0:samples])  \n",
    "\n",
    "            print('... topsim computed')\n",
    "\n",
    "            topsim_final['topsim_' + mode] = topsim\n",
    "    \n",
    "            pickle.dump(topsim_final, open(path_to_run +  \"topsim_final_\" + zero_shot_test_ds + \".pkl\", \"wb\" ) )\n",
    "            print(topsim_final)        "
<<<<<<< HEAD
   ]
=======
   ],
   "metadata": {
    "collapsed": false
   }
>>>>>>> bcfbc63a8593e73b29496059eb12ed6671ee1e51
  },
  {
   "cell_type": "markdown",
   "metadata": {
    "collapsed": false
   },
   "source": [
    "#### Topsim over time"
   ]
  },
  {
   "cell_type": "code",
<<<<<<< HEAD
   "execution_count": 24,
   "metadata": {
    "ExecuteTime": {
     "end_time": "2024-12-19T10:28:03.835447Z",
     "start_time": "2024-12-19T10:21:03.433212Z"
    },
    "collapsed": false
   },
   "outputs": [
    {
     "name": "stdout",
     "output_type": "stream",
     "text": []
    },
    {
     "name": "stdout",
     "output_type": "stream",
     "text": []
    }
   ],
=======
   "execution_count": null,
   "outputs": [],
>>>>>>> bcfbc63a8593e73b29496059eb12ed6671ee1e51
   "source": [
    "for d, dataset in enumerate(datasets):\n",
    "    \n",
    "    n_epochs = n_epochs_all_data[d]\n",
    "    \n",
    "    for run in range(n_runs):\n",
    "        print(\"dataset\", dataset, \"run\", run)\n",
    "        \n",
    "        path_to_run = paths[d] + str(setting) +'/' + str(run) + '/'\n",
    "        if shapes3d == True:\n",
    "            path_to_interaction_train = (path_to_run + 'interactions/train/epoch_10/interaction_gpu0')\n",
    "            path_to_interaction_val = (path_to_run + 'interactions/validation/epoch_10/interaction_gpu0')\n",
    "        else:\n",
    "            path_to_interaction_train = (path_to_run + 'interactions/train/epoch_' + str(n_epochs[run]) + '/interaction_gpu0')\n",
    "            path_to_interaction_val = (path_to_run + 'interactions/validation/epoch_' + str(n_epochs[run]) + '/interaction_gpu0')\n",
    "        \n",
    "        for mode in ['train', 'val']:\n",
    "\n",
    "            if mode == 'train':\n",
    "                interaction = torch.load(path_to_interaction_train)\n",
    "            elif mode == 'val':\n",
    "                interaction = torch.load(path_to_interaction_val)\n",
    "\n",
    "        messages = interaction.message.argmax(dim=-1)\n",
    "        sender_input = interaction.sender_input\n",
    "        messages = [msg.tolist() for msg in messages]\n",
    "        encoded_input = encode_target_concepts_for_topsim(sender_input)\n",
    "        dim = [n_values[0]] * n_attributes[0]\n",
    "        TOPSIM = TopographicSimilarityConceptLevel(dim, is_gumbel=True)\n",
    "        \n",
    "        samples = 5000\n",
    "        num_batches = len(messages) // samples + (len(messages) % samples > 0)\n",
    "        topsim_over_time = []\n",
    "        \n",
    "        for i in range(num_batches):\n",
    "            messages_batch = messages[i * samples:(i + 1) * samples]\n",
    "            topsim = TOPSIM.compute_topsim(encoded_input[i * samples:(i + 1) * samples], messages_batch)\n",
    "            topsim_over_time.append(topsim)\n",
    "            \n",
    "        pickle.dump(topsim_over_time, open(path_to_run +  \"topsim_over_time.pkl\", \"wb\" ) )"
<<<<<<< HEAD
   ]
=======
   ],
   "metadata": {
    "collapsed": false
   }
>>>>>>> bcfbc63a8593e73b29496059eb12ed6671ee1e51
  },
  {
   "cell_type": "markdown",
   "metadata": {
    "collapsed": false
   },
   "source": [
    "### Posdis and Bosdis"
   ]
  },
  {
   "cell_type": "code",
   "execution_count": null,
<<<<<<< HEAD
   "metadata": {
    "ExecuteTime": {
     "end_time": "2024-12-19T10:28:17.855966Z",
     "start_time": "2024-12-19T10:28:03.858483Z"
    }
   },
   "outputs": [
    {
     "name": "stdout",
     "output_type": "stream",
     "text": []
    }
   ],
=======
   "metadata": {},
   "outputs": [],
>>>>>>> bcfbc63a8593e73b29496059eb12ed6671ee1e51
   "source": [
    "# use Disent callback from egg\n",
    "\n",
    "for d in range(len(datasets)): \n",
    "    \n",
    "    n_epochs = n_epochs_all_data[d]\n",
    "    \n",
    "    path = paths[d]\n",
    "    dim = [n_values[d]] * n_attributes[d]\n",
    "    n_features = n_attributes[d] * n_values[d]\n",
    "    vs_factor = int(path[-2])\n",
    "    vocab_size = (n_values[d] + 1) * vs_factor + 1\n",
    "    \n",
    "    print(\"data set\", dim)\n",
    "    \n",
    "    for run in range(n_runs):\n",
    "        \n",
    "        posdis_bosdis = {}\n",
    "    \n",
    "        path_to_run = paths[d] + '/' + str(setting) +'/' + str(run) + '/'\n",
    "        path_to_interaction_train = (path_to_run + 'interactions/train/epoch_' + str(n_epochs[run]) + '/interaction_gpu0')\n",
    "        interaction = torch.load(path_to_interaction_train)\n",
    "        \n",
    "        messages = interaction.message.argmax(dim=-1)\n",
    "        sender_input = interaction.sender_input\n",
    "        n_targets = int(sender_input.shape[1]/2)\n",
    "        # get target objects and fixed vectors to re-construct concepts\n",
    "        target_objects = sender_input[:, :n_targets]\n",
    "        target_objects = k_hot_to_attributes(target_objects, n_values[d])\n",
    "        # concepts are defined by a list of target objects (here one sampled target object) and a fixed vector\n",
    "        (objects, fixed) = retrieve_concepts_sampling(target_objects)\n",
    "        # add one such that zero becomes an empty attribute for the calculation (_)\n",
    "        objects = objects + 1\n",
    "        concepts = torch.from_numpy(objects * (np.array(fixed)))\n",
    "\n",
    "        # concrete/specific concepts: where all attributes are fixed\n",
    "        concepts_specific = torch.tensor(\n",
    "            objects[torch.sum(torch.from_numpy(fixed), dim=1) == n_attributes[d]])\n",
    "        messages_specific = messages[torch.sum(torch.from_numpy(fixed), dim=1) == n_attributes[d]]\n",
    "\n",
    "        # generic concepts: where only one attribute is fixed\n",
    "        concepts_generic = torch.tensor(\n",
    "            objects[torch.sum(torch.from_numpy(fixed), dim=1) == 1])\n",
    "        messages_generic = messages[torch.sum(torch.from_numpy(fixed), dim=1) == 1]\n",
    "        \n",
    "        posdis_specific = Disent.posdis(concepts_specific, messages_specific)\n",
    "        bosdis_specific = Disent.bosdis(concepts_specific, messages_specific, vocab_size)\n",
    "\n",
    "        posdis_generic = Disent.posdis(concepts_generic, messages_generic)\n",
    "        bosdis_generic = Disent.bosdis(concepts_generic, messages_generic, vocab_size)\n",
    "        \n",
    "        posdis = Disent.posdis(torch.from_numpy(objects), messages)\n",
    "        bosdis = Disent.bosdis(torch.from_numpy(objects), messages, vocab_size)\n",
    "        \n",
    "        posdis_bosdis['posdis_specific'] = posdis_specific\n",
    "        posdis_bosdis['bosdis_specific'] = bosdis_specific\n",
    "        posdis_bosdis['posdis_generic'] = posdis_generic\n",
    "        posdis_bosdis['bosdis_generic'] = bosdis_generic\n",
    "        posdis_bosdis['posdis'] = posdis\n",
    "        posdis_bosdis['bosdis'] = bosdis\n",
    "\n",
    "        print(posdis_bosdis)\n",
    "    \n",
    "        pickle.dump(posdis_bosdis, open(path_to_run + \"posdis_bosdis.pkl\", \"wb\" ) )"
   ]
  },
  {
   "cell_type": "markdown",
   "metadata": {
    "collapsed": false
   },
   "source": [
    "#### Posdis and bosdis concept x context"
   ]
  },
  {
   "cell_type": "code",
   "execution_count": null,
<<<<<<< HEAD
   "metadata": {
    "ExecuteTime": {
     "end_time": "2024-12-19T10:28:18.267399Z",
     "start_time": "2024-12-19T10:28:17.857184Z"
    }
   },
=======
   "metadata": {},
>>>>>>> bcfbc63a8593e73b29496059eb12ed6671ee1e51
   "outputs": [],
   "source": [
    "# bosdis concept x context\n",
    "from utils.analysis_from_interaction import bosdis\n",
    "for d in range(len(datasets)):\n",
    "    \n",
    "    n_epochs = n_epochs_all_data[d]\n",
    "\n",
    "    vs_factor = int(paths[d][-2])\n",
    "    vocab_size = (n_values[d] + 1) * vs_factor + 1\n",
    "    \n",
    "    for run in range(n_runs):\n",
    "\n",
    "        path_to_run = paths[d] + '/' + str(setting) +'/' + str(run) + '/' \n",
    "        path_to_interaction = (path_to_run + 'interactions/train/epoch_' + str(n_epochs[run]) + '/interaction_gpu0')\n",
    "        interaction = torch.load(path_to_interaction)\n",
    "\n",
    "        attributes = n_attributes[d]\n",
    "        values = n_values[d]\n",
    "        scores = bosdis(interaction, attributes, values, vocab_size)\n",
    "\n",
    "        pickle.dump(scores, open(path_to_run + 'bosdis_scores.pkl', 'wb'))"
   ]
  },
  {
   "cell_type": "code",
   "execution_count": null,
<<<<<<< HEAD
   "metadata": {
    "ExecuteTime": {
     "end_time": "2024-12-19T10:28:25.205036Z",
     "start_time": "2024-12-19T10:28:18.268941Z"
    },
    "collapsed": false
   },
   "outputs": [
    {
     "name": "stdout",
     "output_type": "stream",
     "text": []
    }
   ],
=======
   "outputs": [],
>>>>>>> bcfbc63a8593e73b29496059eb12ed6671ee1e51
   "source": [
    "# posdis concept x context\n",
    "from utils.analysis_from_interaction import posdis\n",
    "for d in range(len(datasets)):\n",
    "    \n",
    "    n_epochs = n_epochs_all_data[d]\n",
    "\n",
    "    vs_factor = int(paths[d][-2])\n",
    "    vocab_size = (n_values[d] + 1) * vs_factor + 1\n",
    "\n",
    "    for run in range(n_runs):\n",
    "        path_to_run = paths[d] + '/' + str(setting) + '/' + str(run) + '/'\n",
    "        print(path_to_run)\n",
    "        path_to_interaction = (path_to_run + 'interactions/train/epoch_' + str(n_epochs[run]) + '/interaction_gpu0')\n",
    "        #print(path_to_interaction)\n",
    "        interaction = torch.load(path_to_interaction)\n",
    "\n",
    "        attributes = n_attributes[d]\n",
    "        values = n_values[d]\n",
    "        scores = posdis(interaction, attributes, values, vocab_size)\n",
    "\n",
    "        pickle.dump(scores, open(path_to_run + 'posdis_scores.pkl', 'wb'))"
<<<<<<< HEAD
   ]
=======
   ],
   "metadata": {
    "collapsed": false
   }
>>>>>>> bcfbc63a8593e73b29496059eb12ed6671ee1e51
  },
  {
   "attachments": {},
   "cell_type": "markdown",
   "metadata": {},
   "source": [
    "## co-occurrences"
   ]
  },
  {
   "cell_type": "code",
   "execution_count": null,
   "metadata": {},
   "outputs": [],
   "source": [
    "# Not yet implemented:\n",
    "\n",
    "for d in range(len(datasets)):\n",
    "    \n",
    "    vs_factor = int(paths[d][-2])\n",
    "    \n",
    "    for run in range(n_runs): \n",
    "        \n",
    "        path_to_run = paths[d] + str(setting) +'/' + str(run) + '/'\n",
    "        path_to_interaction = (path_to_run + 'interactions/train/epoch_' + str(n_epochs[run]) + '/interaction_gpu0')\n",
    "        interaction = torch.load(path_to_interaction)\n",
    "\n",
    "        attributes = n_attributes[d]\n",
    "        values = n_values[d]\n",
    "        \n",
    "        scores = cooccurrence_per_hierarchy_level(interaction, attributes, values, vs_factor)\n",
    "\n",
    "        print(scores)\n",
    "        \n",
    "        pickle.dump(scores, open(path_to_run + 'normalized_cooccurrence.pkl', 'wb'))\n",
    "    "
   ]
  }
 ],
 "metadata": {
  "kernelspec": {
   "display_name": "emergab",
   "language": "python",
   "name": "python3"
  },
  "language_info": {
   "codemirror_mode": {
    "name": "ipython",
    "version": 3
   },
   "file_extension": ".py",
   "mimetype": "text/x-python",
   "name": "python",
   "nbconvert_exporter": "python",
   "pygments_lexer": "ipython3",
   "version": "3.9.21"
  }
 },
 "nbformat": 4,
 "nbformat_minor": 4
}
