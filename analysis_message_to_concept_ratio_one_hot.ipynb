{
 "cells": [
  {
   "cell_type": "code",
   "execution_count": 1,
   "metadata": {},
   "outputs": [],
   "source": [
    "import os\n",
    "import torch\n",
    "import numpy as np\n",
    "from collections import defaultdict\n",
    "from utils.load_results import *\n",
    "from utils.analysis_from_interaction import *"
   ]
  },
  {
   "cell_type": "code",
   "execution_count": 2,
   "metadata": {},
   "outputs": [],
   "source": [
    "datasets = ('(3,4)', '(3,8)', '(3,16)', '(4,4)', '(4,8)', '(5,4)')\n",
    "n_attributes = (3, 3, 3, 4, 4, 5)\n",
    "n_values = (4, 8, 16, 4, 8, 4)\n",
    "n_epochs = 300\n",
    "paths = [f'results/{d}_game_size_10_vsf_3/' for d in datasets]"
   ]
  },
  {
   "cell_type": "code",
   "execution_count": 3,
   "metadata": {},
   "outputs": [],
   "source": [
    "context_unaware = False # whether original or context_unaware simulations are evaluated\n",
    "if context_unaware:\n",
    "    setting = 'context_unaware'\n",
    "else:\n",
    "    setting = 'standard'"
   ]
  },
  {
   "cell_type": "markdown",
   "metadata": {},
   "source": [
    "# Determine Unique Message size "
   ]
  },
  {
   "cell_type": "code",
   "execution_count": 4,
   "metadata": {},
   "outputs": [],
   "source": [
    "from collections import Counter"
   ]
  },
  {
   "cell_type": "markdown",
   "metadata": {},
   "source": [
    "##### Total message size if symbol order matters:"
   ]
  },
  {
   "cell_type": "code",
   "execution_count": 5,
   "metadata": {},
   "outputs": [
    {
     "name": "stdout",
     "output_type": "stream",
     "text": [
      "Dataset: (3,4)\n",
      "Number of unique messages per run: [175, 187, 191, 170, 157]\n",
      "Mean unique messages: 176.00\n",
      "\n",
      "Dataset: (3,8)\n",
      "Number of unique messages per run: [803, 900, 1263, 756, 786]\n",
      "Mean unique messages: 901.60\n",
      "\n",
      "Dataset: (3,16)\n",
      "Number of unique messages per run: [4032, 2860, 3685, 2654, 4130]\n",
      "Mean unique messages: 3472.20\n",
      "\n",
      "Dataset: (4,4)\n",
      "Number of unique messages per run: [1312, 1487, 1793, 1462, 1744]\n",
      "Mean unique messages: 1559.60\n",
      "\n",
      "Dataset: (4,8)\n",
      "Number of unique messages per run: [12925, 6479, 10282, 8675, 10237]\n",
      "Mean unique messages: 9719.60\n",
      "\n",
      "Dataset: (5,4)\n",
      "Number of unique messages per run: [6325, 10662, 5120, 10036, 10715]\n",
      "Mean unique messages: 8571.60\n",
      "\n"
     ]
    }
   ],
   "source": [
    "num_runs = 5 # number of runs per ds\n",
    "for i, d in enumerate(datasets):\n",
    "    print(f\"Dataset: {d}\")\n",
    "    unique_messages_all_runs = []\n",
    "\n",
    "    for run in range(num_runs):\n",
    "        path_to_run = paths[i] + '/' + str(setting) + '/' + str(run) + '/'\n",
    "        path_to_interaction_train = (path_to_run + 'interactions/train/epoch_' + str(n_epochs) + '/interaction_gpu0')\n",
    "        interaction = torch.load(path_to_interaction_train)\n",
    "\n",
    "        messages = interaction.message.argmax(dim=-1)\n",
    "        messages = [tuple(msg.tolist()) for msg in messages]  # Convert messages to tuples for hashing\n",
    "        total_messages = set(messages)  # Set removes duplicated concepts. Note: tuples are returned unordered  \n",
    "        number_of_unique_messages = len(total_messages)\n",
    "        unique_messages_all_runs.append(number_of_unique_messages)\n",
    "\n",
    "    # Calculate summary statistics for unique messages\n",
    "    mean_unique_messages = np.mean(unique_messages_all_runs)\n",
    "\n",
    "    print(f'Number of unique messages per run: {unique_messages_all_runs}')\n",
    "    print(f'Mean unique messages: {mean_unique_messages:.2f}')\n",
    "    print()"
   ]
  },
  {
   "cell_type": "markdown",
   "metadata": {},
   "source": [
    "##### Unique message size if you consider messages with the same symbols but in different orders as the same message:"
   ]
  },
  {
   "cell_type": "code",
   "execution_count": 6,
   "metadata": {},
   "outputs": [
    {
     "name": "stdout",
     "output_type": "stream",
     "text": [
      "Dataset: (3,4)\n",
      "Number of unique messages per run: [131, 128, 144, 119, 126]\n",
      "Mean unique sorted messages: 129.60\n",
      "\n",
      "Dataset: (3,8)\n",
      "Number of unique messages per run: [649, 720, 853, 571, 616]\n",
      "Mean unique sorted messages: 681.80\n",
      "\n",
      "Dataset: (3,16)\n",
      "Number of unique messages per run: [3214, 2353, 3131, 2240, 3109]\n",
      "Mean unique sorted messages: 2809.40\n",
      "\n",
      "Dataset: (4,4)\n",
      "Number of unique messages per run: [908, 903, 1121, 991, 1027]\n",
      "Mean unique sorted messages: 990.00\n",
      "\n",
      "Dataset: (4,8)\n",
      "Number of unique messages per run: [7476, 4191, 4746, 5573, 7447]\n",
      "Mean unique sorted messages: 5886.60\n",
      "\n",
      "Dataset: (5,4)\n",
      "Number of unique messages per run: [3556, 3110, 2340, 3612, 3938]\n",
      "Mean unique sorted messages: 3311.20\n",
      "\n"
     ]
    }
   ],
   "source": [
    "unique_sorted_messages_all_datasets = []\n",
    "\n",
    "for i, d in enumerate(datasets):\n",
    "    print(f\"Dataset: {d}\")\n",
    "    unique_sorted_messages_all_runs = []\n",
    "\n",
    "    for run in range(num_runs):\n",
    "        path_to_run = paths[i] + '/' + str(setting) + '/' + str(run) + '/'\n",
    "        path_to_interaction_train = (path_to_run + 'interactions/train/epoch_' + str(n_epochs) + '/interaction_gpu0')\n",
    "        interaction = torch.load(path_to_interaction_train)\n",
    "\n",
    "        messages = interaction.message.argmax(dim=-1)\n",
    "         # Convert messages to sorted tuples. Sorted orders ints in ascending order.\n",
    "        sorted_messages = [tuple(sorted(msg.tolist())) for msg in messages] \n",
    "        # Set removed duplicates. \n",
    "        unique_sorted_messages = set(sorted_messages)\n",
    "        number_of_unique_sorted_messages = len(unique_sorted_messages) \n",
    "        unique_sorted_messages_all_runs.append(number_of_unique_sorted_messages)\n",
    "    \n",
    "    unique_sorted_messages_all_datasets.append(unique_sorted_messages_all_runs)\n",
    "    mean_unique_sorted_messages = np.mean(unique_sorted_messages_all_runs)\n",
    "    print(f'Number of unique messages per run: {unique_sorted_messages_all_runs}')\n",
    "    print(f'Mean unique sorted messages: {mean_unique_sorted_messages:.2f}')\n",
    "    print() "
   ]
  },
  {
   "cell_type": "markdown",
   "metadata": {},
   "source": [
    "##### Calculates unique message size if you consider messages with the same symbols but in different orders as the same message. Then draws comparison between unique sorted messages with the number of unique concepts:"
   ]
  },
  {
   "cell_type": "code",
   "execution_count": 7,
   "metadata": {},
   "outputs": [
    {
     "name": "stdout",
     "output_type": "stream",
     "text": [
      "Dataset: (3,4)\n",
      "Number of unique messages per run: [131, 128, 144, 119, 126]\n",
      "Number of unique concepts per run: [660, 655, 709, 743, 693]\n",
      "\n",
      "Dataset: (3,8)\n",
      "Number of unique messages per run: [649, 720, 853, 571, 616]\n",
      "Number of unique concepts per run: [2773, 2911, 2828, 2738, 2822]\n",
      "\n",
      "Dataset: (3,16)\n",
      "Number of unique messages per run: [3214, 2353, 3131, 2240, 3109]\n",
      "Number of unique concepts per run: [12561, 12561, 12561, 12561, 12561]\n",
      "\n",
      "Dataset: (4,4)\n",
      "Number of unique messages per run: [908, 903, 1121, 991, 1027]\n",
      "Number of unique concepts per run: [5955, 6117, 6006, 6332, 6055]\n",
      "\n",
      "Dataset: (4,8)\n",
      "Number of unique messages per run: [7476, 4191, 4746, 5573, 7447]\n",
      "Number of unique concepts per run: [44194, 44194, 44194, 44194, 44194]\n",
      "\n",
      "Dataset: (5,4)\n",
      "Number of unique messages per run: [3556, 3110, 2340, 3612, 3938]\n",
      "Number of unique concepts per run: [45705, 45193, 44560, 45304, 45458]\n",
      "\n",
      "Dataset: (3,4)\n",
      "Ratios of unique messages to unique concepts per run: [0.1984848484848485, 0.19541984732824427, 0.20310296191819463, 0.1601615074024226, 0.18181818181818182]\n",
      "Mean ratio: 0.19\n",
      "\n",
      "Dataset: (3,8)\n",
      "Ratios of unique messages to unique concepts per run: [0.23404255319148937, 0.24733768464445208, 0.30162659123055163, 0.2085463842220599, 0.21828490432317504]\n",
      "Mean ratio: 0.24\n",
      "\n",
      "Dataset: (3,16)\n",
      "Ratios of unique messages to unique concepts per run: [0.2558713478226256, 0.18732584985271875, 0.24926359366292491, 0.17832975081601785, 0.24751214075312475]\n",
      "Mean ratio: 0.22\n",
      "\n",
      "Dataset: (4,4)\n",
      "Ratios of unique messages to unique concepts per run: [0.1524769101595298, 0.1476213830308975, 0.18664668664668665, 0.15650663297536324, 0.16961189099917423]\n",
      "Mean ratio: 0.16\n",
      "\n",
      "Dataset: (4,8)\n",
      "Ratios of unique messages to unique concepts per run: [0.16916323482825724, 0.09483187763044758, 0.10739014345838802, 0.12610309091731908, 0.16850703715436485]\n",
      "Mean ratio: 0.13\n",
      "\n",
      "Dataset: (5,4)\n",
      "Ratios of unique messages to unique concepts per run: [0.07780330379608358, 0.06881596707454694, 0.05251346499102334, 0.07972805933250927, 0.0866294161643715]\n",
      "Mean ratio: 0.07\n",
      "\n"
     ]
    }
   ],
   "source": [
    "unique_sorted_messages_all_datasets = []\n",
    "unique_concepts_all_datasets = []\n",
    "\n",
    "for i, d in enumerate(datasets):\n",
    "    print(f\"Dataset: {d}\")\n",
    "    unique_sorted_messages_all_runs = []\n",
    "    unique_concepts_all_runs = []\n",
    "    \n",
    "    for run in range(num_runs):\n",
    "        path_to_run = paths[i] + '/' + str(setting) + '/' + str(run) + '/'\n",
    "        path_to_interaction_train = (path_to_run + 'interactions/train/epoch_' + str(n_epochs) + '/interaction_gpu0')\n",
    "        interaction = torch.load(path_to_interaction_train)\n",
    "        \n",
    "        # Calculate unique sorted messages\n",
    "        messages = interaction.message.argmax(dim=-1)\n",
    "        sorted_messages = [tuple(sorted(msg.tolist())) for msg in messages]\n",
    "        unique_sorted_messages = set(sorted_messages)\n",
    "        number_of_unique_sorted_messages = len(unique_sorted_messages)\n",
    "        unique_sorted_messages_all_runs.append(number_of_unique_sorted_messages)\n",
    "        \n",
    "        # Calculate unique concepts\n",
    "        sender_input = interaction.sender_input\n",
    "        n_targets = int(sender_input.shape[1]/2)\n",
    "        target_objects = sender_input[:, :n_targets]\n",
    "        target_objects = k_hot_to_attributes(target_objects, n_values[i])\n",
    "        (objects, fixed) = retrieve_concepts_sampling(target_objects, all_targets=True)\n",
    "        concepts = list(zip(objects, fixed))\n",
    "        concepts_strings = [(str(obj), str(fixed_vec)) for obj, fixed_vec in concepts]\n",
    "        unique_concepts = set(concepts_strings)\n",
    "        number_of_unique_concepts = len(unique_concepts)\n",
    "        unique_concepts_all_runs.append(number_of_unique_concepts)\n",
    "        \n",
    "    unique_sorted_messages_all_datasets.append(unique_sorted_messages_all_runs)\n",
    "    unique_concepts_all_datasets.append(unique_concepts_all_runs)\n",
    "    \n",
    "    print(f'Number of unique messages per run: {unique_sorted_messages_all_runs}')\n",
    "    print(f'Number of unique concepts per run: {unique_concepts_all_runs}')\n",
    "    print()\n",
    "\n",
    "# Calculate the ratio for each run in each dataset\n",
    "for i, d in enumerate(datasets):\n",
    "    print(f\"Dataset: {d}\")\n",
    "    ratios = []\n",
    "    \n",
    "    for run in range(num_runs):\n",
    "        num_unique_messages = unique_sorted_messages_all_datasets[i][run]\n",
    "        num_unique_concepts = unique_concepts_all_datasets[i][run]\n",
    "        ratio = num_unique_messages / num_unique_concepts\n",
    "        ratios.append(ratio)\n",
    "        \n",
    "    print(f'Ratios of unique messages to unique concepts per run: {ratios}')\n",
    "    mean_ratio = np.mean(ratios)\n",
    "    print(f'Mean ratio: {mean_ratio:.2f}')\n",
    "    print()"
   ]
  }
 ],
 "metadata": {
  "kernelspec": {
   "display_name": "emergab",
   "language": "python",
   "name": "python3"
  },
  "language_info": {
   "codemirror_mode": {
    "name": "ipython",
    "version": 3
   },
   "file_extension": ".py",
   "mimetype": "text/x-python",
   "name": "python",
   "nbconvert_exporter": "python",
   "pygments_lexer": "ipython3",
   "version": "3.9.18"
  }
 },
 "nbformat": 4,
 "nbformat_minor": 2
}
