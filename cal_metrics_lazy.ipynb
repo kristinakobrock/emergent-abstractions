{
 "cells": [
  {
   "cell_type": "code",
   "execution_count": 1,
   "metadata": {
    "ExecuteTime": {
     "end_time": "2024-03-14T14:07:31.005473Z",
     "start_time": "2024-03-14T14:07:31.002334Z"
    }
   },
   "outputs": [],
   "source": [
    "import pickle\n",
    "from utils.analysis_from_interaction import *\n",
    "from utils.analysis_tools_lazimpa import *\n",
    "from egg.core.language_analysis import Disent\n",
    "from language_analysis_local import TopographicSimilarityConceptLevel, encode_target_concepts_for_topsim"
   ]
  },
  {
   "attachments": {},
   "cell_type": "markdown",
   "metadata": {},
   "source": [
    "# calculate metrics from stored interactions"
   ]
  },
  {
   "cell_type": "code",
   "execution_count": 2,
   "metadata": {
    "ExecuteTime": {
     "end_time": "2024-03-06T14:06:31.077419Z",
     "start_time": "2024-03-06T14:06:31.064730Z"
    },
    "collapsed": false
   },
   "outputs": [],
   "source": [
    "datasets = ['(3,4)',]\n",
    "n_values = [4,]\n",
    "n_attributes = [3,]\n",
    "n_epochs = 300\n",
    "paths = ['results/' + d + '_game_size_10_vsf_3' for d in datasets]"
   ]
  },
  {
   "cell_type": "code",
   "execution_count": 3,
   "metadata": {
    "ExecuteTime": {
     "end_time": "2024-03-14T14:07:36.808016Z",
     "start_time": "2024-03-14T14:07:36.795439Z"
    }
   },
   "outputs": [],
   "source": [
    "context_unaware = False # whether original or context_unaware simulations are evaluated\n",
    "lazy = True # whether the lazy agent is used\n",
    "if not lazy:\n",
    "    if context_unaware:\n",
    "        setting = 'context_unaware'\n",
    "    else:\n",
    "        setting = 'standard'\n",
    "else:\n",
    "    if context_unaware:\n",
    "        setting = 'lazy_context_unaware'\n",
    "    else:\n",
    "        setting = 'lazy_context_aware'"
   ]
  },
  {
   "cell_type": "code",
   "execution_count": 9,
   "metadata": {},
   "outputs": [
    {
     "name": "stdout",
     "output_type": "stream",
     "text": [
      "results/(3,4)_game_size_10_vsf_3/lazy_context_aware/0/interactions/train/epoch_300/interaction_gpu0\n"
     ]
    }
   ],
   "source": [
    "path_to_run = paths[0] + '/' + str(setting) +'/' + str(0) + '/'\n",
    "interaction = load_interaction(paths[0],setting,0,n_epochs)\n",
    "attributes = n_attributes[0]\n",
    "values = n_values[0]"
   ]
  },
  {
   "attachments": {},
   "cell_type": "markdown",
   "metadata": {},
   "source": [
    "## entropy scores: MI, effectiveness, efficiency"
   ]
  },
  {
   "cell_type": "code",
   "execution_count": 5,
   "metadata": {
    "ExecuteTime": {
     "end_time": "2024-03-06T14:06:37.646673Z",
     "start_time": "2024-03-06T14:06:33.540807Z"
    }
   },
   "outputs": [
    {
     "name": "stderr",
     "output_type": "stream",
     "text": [
      "d:\\OneDrive\\Dokumente\\UNI Osnabrück\\bachelorthesis\\InfosKristina\\Code\\emergent-abstractions\\utils\\analysis_from_interaction.py:315: RuntimeWarning: invalid value encountered in divide\n",
      "  (m_entropy_concept_x_context + c_entropy_concept_x_context - joint_entropy_concept_x_context)\n",
      "d:\\OneDrive\\Dokumente\\UNI Osnabrück\\bachelorthesis\\InfosKristina\\Code\\emergent-abstractions\\utils\\analysis_from_interaction.py:324: RuntimeWarning: invalid value encountered in divide\n",
      "  normalized_effectiveness_conc_x_cont = ((joint_entropy_concept_x_context - m_entropy_concept_x_context)\n",
      "d:\\OneDrive\\Dokumente\\UNI Osnabrück\\bachelorthesis\\InfosKristina\\Code\\emergent-abstractions\\utils\\analysis_from_interaction.py:331: RuntimeWarning: invalid value encountered in divide\n",
      "  normalized_consistency_conc_x_cont = (\n"
     ]
    },
    {
     "data": {
      "text/plain": [
       "{'normalized_mutual_info': 0.849702099903696,\n",
       " 'normalized_mutual_info_hierarchical': array([0.9698283 , 0.90870313, 0.85054945]),\n",
       " 'normalized_mutual_info_context_dep': array([0.84266426, 0.91582143, 0.96725142]),\n",
       " 'normalized_mutual_info_concept_x_context': array([0.9698283 ,        nan,        nan, 0.90578833, 0.9790615 ,\n",
       "               nan, 0.86714186, 0.90961943, 0.96725142]),\n",
       " 'effectiveness': 0.8617319789058988,\n",
       " 'effectiveness_hierarchical': array([1.        , 0.94716929, 0.91317087]),\n",
       " 'effectiveness_context_dep': array([0.78426704, 0.9089747 , 0.97858665]),\n",
       " 'effectiveness_concept_x_context': array([1.        ,        nan,        nan, 0.90240457, 0.99334927,\n",
       "               nan, 0.8441512 , 0.94125095, 0.97858665]),\n",
       " 'consistency': 0.8380034736049569,\n",
       " 'consistency_hierarchical': array([0.94142394, 0.87323939, 0.79596548]),\n",
       " 'consistency_context_dep': array([0.91045775, 0.92277208, 0.95617579]),\n",
       " 'consistency_concept_x_context': array([0.94142394,        nan,        nan, 0.90919757, 0.96517891,\n",
       "               nan, 0.8914199 , 0.8800448 , 0.95617579])}"
      ]
     },
     "execution_count": 5,
     "metadata": {},
     "output_type": "execute_result"
    }
   ],
   "source": [
    "#for d in range(len(datasets)):\n",
    "#for run in range(1):\n",
    "\n",
    "scores = information_scores(interaction, attributes, values, normalizer=\"arithmetic\")\n",
    "\n",
    "#pickle.dump(scores, open(path_to_run + 'entropy_scores.pkl', 'wb'))\n",
    "scores"
   ]
  },
  {
   "attachments": {},
   "cell_type": "markdown",
   "metadata": {},
   "source": [
    "##  message length"
   ]
  },
  {
   "cell_type": "code",
   "execution_count": 6,
   "metadata": {
    "ExecuteTime": {
     "end_time": "2024-02-28T16:14:53.162856Z",
     "start_time": "2024-02-28T16:14:51.541390Z"
    }
   },
   "outputs": [
    {
     "name": "stdout",
     "output_type": "stream",
     "text": [
      "message length tensor([1, 1, 1,  ..., 1, 1, 2])\n",
      "hierarchical [1.607, 1.544, 1.53]\n"
     ]
    }
   ],
   "source": [
    "# we evaluated message length per hierarchy level after training but \n",
    "# you can also use the HierarchicalMessageLength callback and store the results \n",
    "# TODO: Message length results look weird, needs to be fixed!\n",
    "\n",
    "#for d in range(len(datasets)):\n",
    "#for run in range(5): \n",
    "        \n",
    "scores = message_length_per_hierarchy_level(interaction, attributes)\n",
    "\n",
    "#pickle.dump(scores, open(path_to_run + 'message_length_hierarchical.pkl', 'wb'))"
   ]
  },
  {
   "cell_type": "markdown",
   "metadata": {},
   "source": [
    "## ZLA significance"
   ]
  },
  {
   "cell_type": "code",
   "execution_count": 8,
   "metadata": {},
   "outputs": [
    {
     "data": {
      "text/plain": [
       "{'mean_message_length': tensor(1.6708),\n",
       " 'mean_weighted_message_length': tensor(1.5368),\n",
       " 'Pzla': tensor(0.0020)}"
      ]
     },
     "execution_count": 8,
     "metadata": {},
     "output_type": "execute_result"
    }
   ],
   "source": [
    "#for d in range(len(datasets)):\n",
    "#for run in range(1): # i TODO 5 later, 1 while testing only\n",
    "\n",
    "scores = ZLA_significance_score(interaction,num_permutations=1000) # TODO check how many permutations Rita et al. used\n",
    "scores\n",
    "#pickle.dump(scores, open(path_to_run + 'ZLAsignificance.pkl', 'wb'))"
   ]
  },
  {
   "attachments": {},
   "cell_type": "markdown",
   "metadata": {},
   "source": [
    "##  symbol redundancy"
   ]
  },
  {
   "cell_type": "code",
   "execution_count": 58,
   "metadata": {
    "ExecuteTime": {
     "end_time": "2024-02-28T16:14:57.892753Z",
     "start_time": "2024-02-28T16:14:53.164028Z"
    }
   },
   "outputs": [
    {
     "name": "stderr",
     "output_type": "stream",
     "text": [
      "/Users/kkobrock/Projects/phdproject1/emergent-abstractions/utils/analysis_from_interaction.py:443: RuntimeWarning: invalid value encountered in divide\n",
      "  return symbol_frequency / att_val_frequency, mutual_information\n",
      "/Users/kkobrock/Projects/phdproject1/emergent-abstractions/utils/analysis_from_interaction.py:443: RuntimeWarning: invalid value encountered in divide\n",
      "  return symbol_frequency / att_val_frequency, mutual_information\n",
      "/Users/kkobrock/Projects/phdproject1/emergent-abstractions/utils/analysis_from_interaction.py:443: RuntimeWarning: invalid value encountered in divide\n",
      "  return symbol_frequency / att_val_frequency, mutual_information\n",
      "/Users/kkobrock/Projects/phdproject1/emergent-abstractions/utils/analysis_from_interaction.py:443: RuntimeWarning: invalid value encountered in divide\n",
      "  return symbol_frequency / att_val_frequency, mutual_information\n",
      "/Users/kkobrock/Projects/phdproject1/emergent-abstractions/utils/analysis_from_interaction.py:443: RuntimeWarning: invalid value encountered in divide\n",
      "  return symbol_frequency / att_val_frequency, mutual_information\n"
     ]
    }
   ],
   "source": [
    "#for d in range(len(datasets)):\n",
    "    \n",
    "vs_factor = int(paths[0][-2])\n",
    "vocab_size = (n_values[0] + 1) * vs_factor + 1\n",
    "\n",
    "#for run in range(5): \n",
    "\n",
    "interaction = load_interaction(paths[0],setting,0,n_epochs)\n",
    "redundancy, MI = symbol_frequency(interaction, attributes, values, vocab_size)\n",
    "\n",
    "scores = {'symbol_redundancy': redundancy, 'MI_symbol-attribute_value': MI}\n",
    "\n",
    "#pickle.dump(scores, open(path_to_run + 'symbol_redundancy.pkl', 'wb'))"
   ]
  },
  {
   "attachments": {},
   "cell_type": "markdown",
   "metadata": {},
   "source": [
    "##  compositionality scores: topsim, posdis, bosdis"
   ]
  },
  {
   "cell_type": "markdown",
   "metadata": {
    "collapsed": false
   },
   "source": [
    "### topsim"
   ]
  },
  {
   "cell_type": "code",
   "execution_count": 8,
   "metadata": {
    "ExecuteTime": {
     "end_time": "2024-03-06T18:20:39.525914Z",
     "start_time": "2024-03-06T14:09:08.937473Z"
    },
    "scrolled": true
   },
   "outputs": [
    {
     "name": "stdout",
     "output_type": "stream",
     "text": [
      "dataset (4,4) run 0\n",
      "... topsim computed\n",
      "... topsim computed\n",
      "{'topsim_train': 0.4961544843847002, 'topsim_specific_train': 0.5613587001371683, 'topsim_generic_train': 0.356023115741368, 'topsim_val': 0.5183962773875957, 'topsim_specific_val': 0.6014905644104569, 'topsim_generic_val': 0.34987064972295523}\n",
      "dataset (4,4) run 1\n",
      "... topsim computed\n",
      "... topsim computed\n",
      "{'topsim_train': 0.4911624839020278, 'topsim_specific_train': 0.5448991474589403, 'topsim_generic_train': 0.1824133804995301, 'topsim_val': 0.5042482234534768, 'topsim_specific_val': 0.5484302690765211, 'topsim_generic_val': 0.20498589414276477}\n",
      "dataset (4,4) run 2\n",
      "... topsim computed\n",
      "... topsim computed\n",
      "{'topsim_train': 0.4522702414218579, 'topsim_specific_train': 0.4932977631876992, 'topsim_generic_train': 0.2367133421060698, 'topsim_val': 0.44841049933297644, 'topsim_specific_val': 0.49703150963945175, 'topsim_generic_val': 0.2573979986295118}\n",
      "dataset (4,4) run 3\n",
      "... topsim computed\n",
      "... topsim computed\n",
      "{'topsim_train': 0.3170902937292031, 'topsim_specific_train': 0.3255594938666777, 'topsim_generic_train': 0.3030809414263593, 'topsim_val': 0.3257616103577769, 'topsim_specific_val': 0.33593196040729023, 'topsim_generic_val': 0.35341148424949537}\n",
      "dataset (4,4) run 4\n",
      "... topsim computed\n",
      "... topsim computed\n",
      "{'topsim_train': 0.45170737630363245, 'topsim_specific_train': 0.5135091826673119, 'topsim_generic_train': 0.16939694699940047, 'topsim_val': 0.4603316877692786, 'topsim_specific_val': 0.5238092302193209, 'topsim_generic_val': 0.320031875966423}\n"
     ]
    }
   ],
   "source": [
    "# topsim\n",
    "# although topsim values are stored throughout training if callbacks are verbose, we reevaluate the\n",
    "# final topsim scores with more data points \n",
    "\n",
    "samples = 5000 # maybe shuffle from these because otherwise I just take the first 5,000 (which might not be the best)\n",
    "for d, dataset in enumerate(datasets):\n",
    "    \n",
    "    dim = [n_values[d]]*n_attributes[d]\n",
    "    \n",
    "    for run in range(5):\n",
    "        print(\"dataset\", dataset, \"run\", run)\n",
    "        \n",
    "        topsim_final = {}\n",
    "        path_to_run = paths[d] + str(setting) +'/' + str(run) + '/'\n",
    "        path_to_interaction_train = (path_to_run + 'interactions/train/epoch_' + str(n_epochs) + '/interaction_gpu0')\n",
    "        path_to_interaction_val = (path_to_run + 'interactions/validation/epoch_' + str(n_epochs) + '/interaction_gpu0')\n",
    "        \n",
    "        TOPSIM = TopographicSimilarityConceptLevel(dim, is_gumbel=True)\n",
    "        \n",
    "        for mode in ['train', 'val']:\n",
    "\n",
    "            if mode == 'train':\n",
    "                interaction = torch.load(path_to_interaction_train)\n",
    "            elif mode == 'val':\n",
    "                interaction = torch.load(path_to_interaction_val)\n",
    "                \n",
    "                  \n",
    "            messages = interaction.message.argmax(dim=-1)\n",
    "            sender_input = interaction.sender_input\n",
    "            n_targets = int(sender_input.shape[1]/2)\n",
    "            # get target objects and fixed vectors to re-construct concepts\n",
    "            target_objects = sender_input[:, :n_targets]\n",
    "            target_objects = k_hot_to_attributes(target_objects, n_values[d])\n",
    "            # concepts are defined by a list of target objects (here one sampled target object) and a fixed vector\n",
    "            (objects, fixed) = retrieve_concepts_sampling(target_objects)\n",
    "            # add one such that zero becomes an empty attribute for the calculation (_)\n",
    "            objects = objects + 1\n",
    "            concepts = torch.from_numpy(objects * (np.array(fixed)))\n",
    "            specific_idx = np.where(np.sum(fixed, axis=1)==n_attributes[d])[0]\n",
    "            messages_specific = messages[specific_idx]\n",
    "            concepts_specific = concepts[specific_idx]\n",
    "            \n",
    "            generic_idx = np.where(np.sum(fixed, axis=1)==1)[0]\n",
    "            messages_generic = messages[generic_idx]\n",
    "            concepts_generic = concepts[generic_idx]\n",
    "\n",
    "            messages = [msg.tolist() for msg in messages]\n",
    "            messages_specific = [msg.tolist() for msg in messages_specific]\n",
    "            messages_generic = [msg.tolist() for msg in messages_generic]\n",
    "\n",
    "            encoded_input = encode_target_concepts_for_topsim(sender_input)\n",
    "            # randomly take samples when more than 5000 samples are available\n",
    "            # if len(encoded_input) > samples: \n",
    "            #     print(\"sampling\")\n",
    "            #     sample_indices = random.sample(range(len(encoded_input)), samples)\n",
    "            #     sampled_input = [encoded_input[i] for i in sample_indices]\n",
    "            #     sampled_messages = [messages[i] for i in sample_indices]\n",
    "            #     print(\"start computing\")\n",
    "            #     print(len(sampled_input), len(sampled_input[0]), len(sampled_input[0][0]))\n",
    "            #     topsim = TOPSIM.compute_topsim(sampled_input, sampled_messages)\n",
    "            # else:\n",
    "            topsim = TOPSIM.compute_topsim(encoded_input[0:samples], messages[0:samples]) # default: hausdorff distance for concepts, edit distance for messages\n",
    "            # if len(concepts_specific) > samples:\n",
    "            #     print(\"sampling specific\")\n",
    "            #     sample_indices_specific = random.sample(range(len(concepts_specific)), samples)\n",
    "            #     sampled_input_specific = [concepts_specific[i] for i in sample_indices_specific]\n",
    "            #     sampled_messages_specific = [messages_specific[i] for i in sample_indices_specific]\n",
    "            #     topsim_specific = TOPSIM.compute_topsim(sampled_input_specific, sampled_messages_specific, \n",
    "            #                                             meaning_distance_fn=\"edit\")\n",
    "            # else:\n",
    "            topsim_specific = TOPSIM.compute_topsim(concepts_specific[0:samples], messages_specific[0:samples], \n",
    "                                                        meaning_distance_fn=\"edit\")\n",
    "            \n",
    "            topsim_generic = TOPSIM.compute_topsim(concepts_generic[0:samples], messages_generic[0:samples],\n",
    "                                                   meaning_distance_fn=\"edit\")\n",
    "\n",
    "            print('... topsim computed')\n",
    "\n",
    "            topsim_final['topsim_' + mode] = topsim\n",
    "            topsim_final['topsim_specific_' + mode] = topsim_specific\n",
    "            topsim_final['topsim_generic_' + mode] = topsim_generic\n",
    "    \n",
    "        pickle.dump(topsim_final, open(path_to_run +  \"topsim_final.pkl\", \"wb\" ) )\n",
    "        print(topsim_final)        "
   ]
  },
  {
   "cell_type": "markdown",
   "metadata": {
    "collapsed": false
   },
   "source": [
    "#### Topsim over time"
   ]
  },
  {
   "cell_type": "code",
   "execution_count": null,
   "metadata": {
    "ExecuteTime": {
     "start_time": "2024-03-14T14:07:47.776462Z"
    },
    "collapsed": false,
    "is_executing": true
   },
   "outputs": [
    {
     "name": "stdout",
     "output_type": "stream",
     "text": [
      "dataset (3,4) run 0\n",
      "dataset (3,4) run 1\n",
      "dataset (3,4) run 2\n",
      "dataset (3,4) run 3\n",
      "dataset (3,4) run 4\n",
      "dataset (3,8) run 0\n",
      "dataset (3,8) run 1\n",
      "dataset (3,8) run 2\n",
      "dataset (3,8) run 3\n",
      "dataset (3,8) run 4\n",
      "dataset (3,16) run 0\n",
      "dataset (3,16) run 1\n"
     ]
    }
   ],
   "source": [
    "for d, dataset in enumerate(datasets):\n",
    "    \n",
    "    for run in range(5):\n",
    "        print(\"dataset\", dataset, \"run\", run)\n",
    "        \n",
    "        path_to_run = paths[d] + str(setting) +'/' + str(run) + '/'\n",
    "        path_to_interaction_train = (path_to_run + 'interactions/train/epoch_' + str(n_epochs) + '/interaction_gpu0')\n",
    "        path_to_interaction_val = (path_to_run + 'interactions/validation/epoch_' + str(n_epochs) + '/interaction_gpu0')\n",
    "        \n",
    "        for mode in ['train', 'val']:\n",
    "\n",
    "            if mode == 'train':\n",
    "                interaction = torch.load(path_to_interaction_train)\n",
    "            elif mode == 'val':\n",
    "                interaction = torch.load(path_to_interaction_val)\n",
    "\n",
    "        messages = interaction.message.argmax(dim=-1)\n",
    "        sender_input = interaction.sender_input\n",
    "        messages = [msg.tolist() for msg in messages]\n",
    "        encoded_input = encode_target_concepts_for_topsim(sender_input)\n",
    "        dim = [n_values[0]] * n_attributes[0]\n",
    "        TOPSIM = TopographicSimilarityConceptLevel(dim, is_gumbel=True)\n",
    "        \n",
    "        samples = 5000\n",
    "        num_batches = len(messages) // samples + (len(messages) % samples > 0)\n",
    "        topsim_over_time = []\n",
    "        \n",
    "        for i in range(num_batches):\n",
    "            messages_batch = messages[i * samples:(i + 1) * samples]\n",
    "            topsim = TOPSIM.compute_topsim(encoded_input[i * samples:(i + 1) * samples], messages_batch)\n",
    "            topsim_over_time.append(topsim)\n",
    "            \n",
    "        pickle.dump(topsim_over_time, open(path_to_run +  \"topsim_over_time.pkl\", \"wb\" ) )"
   ]
  },
  {
   "cell_type": "markdown",
   "metadata": {
    "collapsed": false
   },
   "source": [
    "### Posdis and Bosdis"
   ]
  },
  {
   "cell_type": "code",
   "execution_count": 59,
   "metadata": {
    "ExecuteTime": {
     "end_time": "2024-02-28T16:16:18.597875Z",
     "start_time": "2024-02-28T16:14:57.896059Z"
    }
   },
   "outputs": [
    {
     "name": "stdout",
     "output_type": "stream",
     "text": [
      "data set [4, 4, 4, 4]\n",
      "{'posdis_specific': 0.0465884767472744, 'bosdis_specific': 0.2928831875324249, 'posdis_generic': 0.03174097090959549, 'bosdis_generic': 0.06935141235589981, 'posdis': 0.0335584357380867, 'bosdis': 0.24937672913074493}\n",
      "{'posdis_specific': 0.07036396116018295, 'bosdis_specific': 0.2058870941400528, 'posdis_generic': 0.022420044988393784, 'bosdis_generic': 0.048999253660440445, 'posdis': 0.0441184863448143, 'bosdis': 0.19311127066612244}\n",
      "{'posdis_specific': 0.014630235731601715, 'bosdis_specific': 0.17614348232746124, 'posdis_generic': 0.043402787297964096, 'bosdis_generic': 0.05605326592922211, 'posdis': 0.014388194307684898, 'bosdis': 0.15945889055728912}\n",
      "{'posdis_specific': 0.09702602028846741, 'bosdis_specific': 0.2543882429599762, 'posdis_generic': 0.07296779751777649, 'bosdis_generic': 0.08056525141000748, 'posdis': 0.09423286467790604, 'bosdis': 0.216058149933815}\n",
      "{'posdis_specific': 0.052317507565021515, 'bosdis_specific': 0.35632622241973877, 'posdis_generic': 0.019033391028642654, 'bosdis_generic': 0.10502251237630844, 'posdis': 0.03982420638203621, 'bosdis': 0.27887263894081116}\n"
     ]
    }
   ],
   "source": [
    "# use Disent callback from egg\n",
    "\n",
    "for d in range(len(datasets)): \n",
    "    \n",
    "    path = paths[d]\n",
    "    dim = [n_values[d]] * n_attributes[d]\n",
    "    n_features = n_attributes[d] * n_values[d]\n",
    "    vs_factor = int(path[-2])\n",
    "    vocab_size = (n_values[d] + 1) * vs_factor + 1\n",
    "    \n",
    "    print(\"data set\", dim)\n",
    "    \n",
    "    for run in range(5):\n",
    "        \n",
    "        posdis_bosdis = {}\n",
    "    \n",
    "        path_to_run = paths[d] + '/' + str(setting) +'/' + str(run) + '/'\n",
    "        path_to_interaction_train = (path_to_run + 'interactions/train/epoch_' + str(n_epochs) + '/interaction_gpu0')\n",
    "        interaction = torch.load(path_to_interaction_train)\n",
    "        \n",
    "        messages = interaction.message.argmax(dim=-1)\n",
    "        sender_input = interaction.sender_input\n",
    "        n_targets = int(sender_input.shape[1]/2)\n",
    "        # get target objects and fixed vectors to re-construct concepts\n",
    "        target_objects = sender_input[:, :n_targets]\n",
    "        target_objects = k_hot_to_attributes(target_objects, n_values[d])\n",
    "        # concepts are defined by a list of target objects (here one sampled target object) and a fixed vector\n",
    "        (objects, fixed) = retrieve_concepts_sampling(target_objects)\n",
    "        # add one such that zero becomes an empty attribute for the calculation (_)\n",
    "        objects = objects + 1\n",
    "        concepts = torch.from_numpy(objects * (np.array(fixed)))\n",
    "\n",
    "        # concrete/specific concepts: where all attributes are fixed\n",
    "        concepts_specific = torch.tensor(\n",
    "            objects[torch.sum(torch.from_numpy(fixed), dim=1) == n_attributes[d]])\n",
    "        messages_specific = messages[torch.sum(torch.from_numpy(fixed), dim=1) == n_attributes[d]]\n",
    "\n",
    "        # generic concepts: where only one attribute is fixed\n",
    "        concepts_generic = torch.tensor(\n",
    "            objects[torch.sum(torch.from_numpy(fixed), dim=1) == 1])\n",
    "        messages_generic = messages[torch.sum(torch.from_numpy(fixed), dim=1) == 1]\n",
    "        \n",
    "        posdis_specific = Disent.posdis(concepts_specific, messages_specific)\n",
    "        bosdis_specific = Disent.bosdis(concepts_specific, messages_specific, vocab_size)\n",
    "\n",
    "        posdis_generic = Disent.posdis(concepts_generic, messages_generic)\n",
    "        bosdis_generic = Disent.bosdis(concepts_generic, messages_generic, vocab_size)\n",
    "        \n",
    "        posdis = Disent.posdis(torch.from_numpy(objects), messages)\n",
    "        bosdis = Disent.bosdis(torch.from_numpy(objects), messages, vocab_size)\n",
    "        \n",
    "        posdis_bosdis['posdis_specific'] = posdis_specific\n",
    "        posdis_bosdis['bosdis_specific'] = bosdis_specific\n",
    "        posdis_bosdis['posdis_generic'] = posdis_generic\n",
    "        posdis_bosdis['bosdis_generic'] = bosdis_generic\n",
    "        posdis_bosdis['posdis'] = posdis\n",
    "        posdis_bosdis['bosdis'] = bosdis\n",
    "\n",
    "        print(posdis_bosdis)\n",
    "    \n",
    "        pickle.dump(posdis_bosdis, open(path_to_run + \"posdis_bosdis.pkl\", \"wb\" ) )"
   ]
  },
  {
   "cell_type": "markdown",
   "metadata": {
    "collapsed": false
   },
   "source": [
    "#### Posdis and bosdis concept x context"
   ]
  },
  {
   "cell_type": "code",
   "execution_count": 65,
   "metadata": {
    "ExecuteTime": {
     "end_time": "2024-02-28T16:21:47.222765Z",
     "start_time": "2024-02-28T16:21:29.736013Z"
    }
   },
   "outputs": [],
   "source": [
    "# bosdis concept x context\n",
    "for d in range(len(datasets)):\n",
    "\n",
    "    vs_factor = int(paths[d][-2])\n",
    "    vocab_size = (n_values[d] + 1) * vs_factor + 1\n",
    "    \n",
    "    for run in range(5):\n",
    "\n",
    "        path_to_run = paths[d] + '/' + str(setting) +'/' + str(run) + '/' \n",
    "        path_to_interaction = (path_to_run + 'interactions/train/epoch_' + str(n_epochs) + '/interaction_gpu0')\n",
    "        interaction = torch.load(path_to_interaction)\n",
    "\n",
    "        attributes = n_attributes[d]\n",
    "        values = n_values[d]\n",
    "        scores = bosdis(interaction, attributes, values, vocab_size)\n",
    "\n",
    "        pickle.dump(scores, open(path_to_run + 'bosdis_scores.pkl', 'wb'))"
   ]
  },
  {
   "cell_type": "code",
   "execution_count": 66,
   "metadata": {
    "ExecuteTime": {
     "end_time": "2024-02-28T16:22:09.615176Z",
     "start_time": "2024-02-28T16:21:47.223647Z"
    },
    "collapsed": false
   },
   "outputs": [
    {
     "name": "stdout",
     "output_type": "stream",
     "text": [
      "results/(4,4)_game_size_10_vsf_3//length_cost/no_cost_context_unaware/0/\n",
      "results/(4,4)_game_size_10_vsf_3//length_cost/no_cost_context_unaware/1/\n",
      "results/(4,4)_game_size_10_vsf_3//length_cost/no_cost_context_unaware/2/\n",
      "results/(4,4)_game_size_10_vsf_3//length_cost/no_cost_context_unaware/3/\n",
      "results/(4,4)_game_size_10_vsf_3//length_cost/no_cost_context_unaware/4/\n"
     ]
    }
   ],
   "source": [
    "# posdis concept x context\n",
    "for d in range(len(datasets)):\n",
    "\n",
    "    vs_factor = int(paths[d][-2])\n",
    "    vocab_size = (n_values[d] + 1) * vs_factor + 1\n",
    "\n",
    "    for run in range(5):\n",
    "        path_to_run = paths[d] + '/' + str(setting) + '/' + str(run) + '/'\n",
    "        print(path_to_run)\n",
    "        path_to_interaction = (path_to_run + 'interactions/train/epoch_' + str(n_epochs) + '/interaction_gpu0')\n",
    "        #print(path_to_interaction)\n",
    "        interaction = torch.load(path_to_interaction)\n",
    "\n",
    "        attributes = n_attributes[d]\n",
    "        values = n_values[d]\n",
    "        scores = posdis(interaction, attributes, values, vocab_size)\n",
    "\n",
    "        pickle.dump(scores, open(path_to_run + 'posdis_scores.pkl', 'wb'))"
   ]
  },
  {
   "attachments": {},
   "cell_type": "markdown",
   "metadata": {},
   "source": [
    "## co-occurrences"
   ]
  },
  {
   "cell_type": "code",
   "execution_count": null,
   "metadata": {},
   "outputs": [],
   "source": [
    "# Not yet implemented:\n",
    "\n",
    "for d in range(len(datasets)):\n",
    "    \n",
    "    vs_factor = int(paths[d][-2])\n",
    "    \n",
    "    for run in range(5): \n",
    "        \n",
    "        path_to_run = paths[d] + str(setting) +'/' + str(run) + '/'\n",
    "        path_to_interaction = (path_to_run + 'interactions/train/epoch_' + str(n_epochs) + '/interaction_gpu0')\n",
    "        interaction = torch.load(path_to_interaction)\n",
    "\n",
    "        attributes = n_attributes[d]\n",
    "        values = n_values[d]\n",
    "        \n",
    "        scores = cooccurrence_per_hierarchy_level(interaction, attributes, values, vs_factor)\n",
    "\n",
    "        print(scores)\n",
    "        \n",
    "        pickle.dump(scores, open(path_to_run + 'normalized_cooccurrence.pkl', 'wb'))\n",
    "    "
   ]
  }
 ],
 "metadata": {
  "kernelspec": {
   "display_name": "Python 3 (ipykernel)",
   "language": "python",
   "name": "python3"
  },
  "language_info": {
   "codemirror_mode": {
    "name": "ipython",
    "version": 3
   },
   "file_extension": ".py",
   "mimetype": "text/x-python",
   "name": "python",
   "nbconvert_exporter": "python",
   "pygments_lexer": "ipython3",
   "version": "3.9.19"
  }
 },
 "nbformat": 4,
 "nbformat_minor": 4
}
