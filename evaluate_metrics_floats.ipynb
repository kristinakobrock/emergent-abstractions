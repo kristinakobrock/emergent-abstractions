{
 "cells": [
  {
   "cell_type": "code",
   "execution_count": 1,
   "metadata": {
    "ExecuteTime": {
     "end_time": "2023-11-30T11:04:19.572387Z",
     "start_time": "2023-11-30T11:04:18.874785Z"
    }
   },
   "outputs": [],
   "source": [
    "import pickle\n",
    "from utils.analysis_from_interaction import *\n",
    "from egg.core.language_analysis import Disent\n",
    "from language_analysis_local import TopographicSimilarityConceptLevel, encode_target_concepts_for_topsim"
   ]
  },
  {
   "attachments": {},
   "cell_type": "markdown",
   "metadata": {},
   "source": [
    "# calculate metrics from stored interactions"
   ]
  },
  {
   "cell_type": "code",
   "execution_count": 2,
   "metadata": {
    "ExecuteTime": {
     "end_time": "2023-11-30T11:04:23.820405Z",
     "start_time": "2023-11-30T11:04:23.814375Z"
    }
   },
   "outputs": [],
   "source": [
    "datasets = ('(3,4)',)\n",
    "n_attributes = (3,)\n",
    "n_values = (4,)\n",
    "n_epochs = 400\n",
    "#paths = ['results/' + d + '_sample_scaling_10_balanced_False_vsf_3/' for d in datasets]\n",
    "paths = [f'results/{d}_game_size_10_vsf_3/' for d in datasets]\n"
   ]
  },
  {
   "cell_type": "code",
   "execution_count": 3,
   "metadata": {
    "ExecuteTime": {
     "end_time": "2023-11-30T12:22:16.086367Z",
     "start_time": "2023-11-30T12:22:16.052844Z"
    }
   },
   "outputs": [],
   "source": [
    "context_unaware = False # whether original or context_unaware simulations are evaluated\n",
    "length_cost = False\n",
    "if context_unaware:\n",
    "    setting = 'context_unaware'\n",
    "elif length_cost:\n",
    "    setting = 'length_cost_001'\n",
    "else:\n",
    "    setting = 'standard'"
   ]
  },
  {
   "attachments": {},
   "cell_type": "markdown",
   "metadata": {},
   "source": [
    "### entropy scores: MI, effectiveness, efficiency"
   ]
  },
  {
   "cell_type": "code",
   "execution_count": 10,
   "metadata": {
    "ExecuteTime": {
     "end_time": "2023-11-30T11:01:00.647075Z",
     "start_time": "2023-11-30T11:00:56.382089Z"
    }
   },
   "outputs": [
    {
     "name": "stdout",
     "output_type": "stream",
     "text": [
      "results/(3,4)_game_size_10_vsf_3//standard/0/\n"
     ]
    },
    {
     "name": "stderr",
     "output_type": "stream",
     "text": [
      "c:\\Users\\rvver\\Documents\\CodeThesis\\emergent-abstractions\\utils\\analysis_from_interaction.py:310: RuntimeWarning: invalid value encountered in divide\n",
      "  normalized_MI_conc_x_cont = ((m_entropy_concept_x_context + c_entropy_concept_x_context - joint_entropy_concept_x_context)\n",
      "c:\\Users\\rvver\\Documents\\CodeThesis\\emergent-abstractions\\utils\\analysis_from_interaction.py:319: RuntimeWarning: invalid value encountered in divide\n",
      "  normalized_effectiveness_conc_x_cont = ((joint_entropy_concept_x_context - m_entropy_concept_x_context)\n",
      "c:\\Users\\rvver\\Documents\\CodeThesis\\emergent-abstractions\\utils\\analysis_from_interaction.py:326: RuntimeWarning: invalid value encountered in divide\n",
      "  normalized_consistency_conc_x_cont = (joint_entropy_concept_x_context - c_entropy_concept_x_context) / m_entropy_concept_x_context\n"
     ]
    },
    {
     "name": "stdout",
     "output_type": "stream",
     "text": [
      "results/(3,4)_game_size_10_vsf_3//standard/1/\n",
      "results/(3,4)_game_size_10_vsf_3//standard/2/\n",
      "results/(3,4)_game_size_10_vsf_3//standard/3/\n",
      "results/(3,4)_game_size_10_vsf_3//standard/4/\n"
     ]
    }
   ],
   "source": [
    "for d in range(len(datasets)):\n",
    "    for run in range(5):\n",
    "\n",
    "        path_to_run = paths[d] + '/' + str(setting) +'/' + str(run) + '/' \n",
    "        print(path_to_run)\n",
    "        path_to_interaction = (path_to_run + 'interactions/train/epoch_' + str(n_epochs) + '/interaction_gpu0')\n",
    "        interaction = torch.load(path_to_interaction)\n",
    "\n",
    "        attributes = n_attributes[d]\n",
    "        values = n_values[d]\n",
    "        scores = information_scores(interaction, attributes, values, normalizer=\"arithmetic\")\n",
    "\n",
    "        pickle.dump(scores, open(path_to_run + 'entropy_scores.pkl', 'wb'))\n",
    "    "
   ]
  },
  {
   "attachments": {},
   "cell_type": "markdown",
   "metadata": {},
   "source": [
    "###  message length"
   ]
  },
  {
   "cell_type": "code",
   "execution_count": 11,
   "metadata": {
    "ExecuteTime": {
     "end_time": "2023-11-30T10:59:18.921635Z",
     "start_time": "2023-11-30T10:59:18.918467Z"
    }
   },
   "outputs": [
    {
     "name": "stdout",
     "output_type": "stream",
     "text": [
      "tensor([[ 9,  9,  9,  0],\n",
      "        [ 8, 13, 14,  0],\n",
      "        [ 8,  3, 11,  0],\n",
      "        ...,\n",
      "        [ 5,  5,  9,  0],\n",
      "        [ 1, 10, 10,  0],\n",
      "        [15, 12, 12,  0]])\n",
      "tensor([1, 1, 1,  ..., 1, 1, 1])\n",
      "message length tensor([3, 3, 3,  ..., 3, 3, 3])\n",
      "tensor([[ 9,  9,  9,  0],\n",
      "        [ 8, 13, 14,  0],\n",
      "        [ 8,  3, 11,  0],\n",
      "        ...,\n",
      "        [ 5,  5,  9,  0],\n",
      "        [ 1, 10, 10,  0],\n",
      "        [15, 12, 12,  0]])\n",
      "tensor([1, 1, 1,  ..., 1, 1, 1])\n",
      "hierarchical [3.0, 3.0, 3.0]\n",
      "tensor([[ 4,  2,  4,  0],\n",
      "        [ 2,  6, 15,  0],\n",
      "        [ 9,  5,  5,  0],\n",
      "        ...,\n",
      "        [ 6, 15,  3,  0],\n",
      "        [ 9,  9,  9,  0],\n",
      "        [ 2,  2,  4,  0]])\n",
      "tensor([1, 1, 1,  ..., 1, 1, 1])\n",
      "message length tensor([3, 3, 3,  ..., 3, 3, 3])\n",
      "tensor([[ 4,  2,  4,  0],\n",
      "        [ 2,  6, 15,  0],\n",
      "        [ 9,  5,  5,  0],\n",
      "        ...,\n",
      "        [ 6, 15,  3,  0],\n",
      "        [ 9,  9,  9,  0],\n",
      "        [ 2,  2,  4,  0]])\n",
      "tensor([1, 1, 1,  ..., 1, 1, 1])\n",
      "hierarchical [3.0, 3.0, 3.0]\n",
      "tensor([[ 6,  1,  3,  0],\n",
      "        [ 1,  4,  5,  0],\n",
      "        [ 1, 14,  3,  0],\n",
      "        ...,\n",
      "        [ 1, 13,  3,  0],\n",
      "        [ 1, 13,  3,  0],\n",
      "        [ 4,  5,  5,  0]])\n",
      "tensor([1, 1, 1,  ..., 1, 1, 1])\n",
      "message length tensor([3, 3, 3,  ..., 3, 3, 3])\n",
      "tensor([[ 6,  1,  3,  0],\n",
      "        [ 1,  4,  5,  0],\n",
      "        [ 1, 14,  3,  0],\n",
      "        ...,\n",
      "        [ 1, 13,  3,  0],\n",
      "        [ 1, 13,  3,  0],\n",
      "        [ 4,  5,  5,  0]])\n",
      "tensor([1, 1, 1,  ..., 1, 1, 1])\n",
      "hierarchical [3.0, 3.0, 3.0]\n",
      "tensor([[ 3, 15, 15,  0],\n",
      "        [ 3,  8,  8,  0],\n",
      "        [ 9,  9, 10,  0],\n",
      "        ...,\n",
      "        [ 3, 15, 15,  0],\n",
      "        [ 3,  6, 10,  0],\n",
      "        [ 6, 10, 10,  0]])\n",
      "tensor([1, 1, 1,  ..., 1, 1, 1])\n",
      "message length tensor([3, 3, 3,  ..., 3, 3, 3])\n",
      "tensor([[ 3, 15, 15,  0],\n",
      "        [ 3,  8,  8,  0],\n",
      "        [ 9,  9, 10,  0],\n",
      "        ...,\n",
      "        [ 3, 15, 15,  0],\n",
      "        [ 3,  6, 10,  0],\n",
      "        [ 6, 10, 10,  0]])\n",
      "tensor([1, 1, 1,  ..., 1, 1, 1])\n",
      "hierarchical [3.0, 3.0, 3.0]\n",
      "tensor([[ 9, 10,  7,  0],\n",
      "        [ 8, 10,  8,  0],\n",
      "        [ 7,  7, 11,  0],\n",
      "        ...,\n",
      "        [ 7,  7,  7,  0],\n",
      "        [ 8, 15, 10,  0],\n",
      "        [ 4, 13, 13,  0]])\n",
      "tensor([1, 1, 1,  ..., 1, 1, 1])\n",
      "message length tensor([3, 3, 3,  ..., 3, 3, 3])\n",
      "tensor([[ 9, 10,  7,  0],\n",
      "        [ 8, 10,  8,  0],\n",
      "        [ 7,  7, 11,  0],\n",
      "        ...,\n",
      "        [ 7,  7,  7,  0],\n",
      "        [ 8, 15, 10,  0],\n",
      "        [ 4, 13, 13,  0]])\n",
      "tensor([1, 1, 1,  ..., 1, 1, 1])\n",
      "hierarchical [3.0, 3.0, 3.0]\n"
     ]
    }
   ],
   "source": [
    "# we evaluated message length per hierarchy level after training but \n",
    "# you can also use the HierarchicalMessageLength callback and store the results \n",
    "# TODO: Message length results look weird, needs to be fixed!\n",
    "\n",
    "for d in range(len(datasets)):\n",
    "    \n",
    "    for run in range(5): \n",
    "        \n",
    "        path_to_run = paths[d] + '/' + str(setting) +'/' + str(run) + '/'\n",
    "        path_to_interaction = (path_to_run + 'interactions/train/interactions_epoch' + str(n_epochs))\n",
    "        path_to_interaction = (path_to_run + 'interactions/train/epoch_' + str(n_epochs) + '/interaction_gpu0')\n",
    "        interaction = torch.load(path_to_interaction)\n",
    "\n",
    "        attributes = n_attributes[d]\n",
    "        values = n_values[d]\n",
    "        scores = message_length_per_hierarchy_level(interaction, attributes)\n",
    "        \n",
    "        pickle.dump(scores, open(path_to_run + 'message_length_hierarchical.pkl', 'wb'))"
   ]
  },
  {
   "attachments": {},
   "cell_type": "markdown",
   "metadata": {},
   "source": [
    "###  symbol redundancy"
   ]
  },
  {
   "cell_type": "code",
   "execution_count": 12,
   "metadata": {
    "ExecuteTime": {
     "start_time": "2023-11-30T10:59:18.919473Z"
    }
   },
   "outputs": [
    {
     "name": "stderr",
     "output_type": "stream",
     "text": [
      "c:\\Users\\rvver\\Documents\\CodeThesis\\emergent-abstractions\\utils\\analysis_from_interaction.py:443: RuntimeWarning: invalid value encountered in divide\n",
      "  return symbol_frequency / att_val_frequency, mutual_information\n",
      "c:\\Users\\rvver\\Documents\\CodeThesis\\emergent-abstractions\\utils\\analysis_from_interaction.py:443: RuntimeWarning: invalid value encountered in divide\n",
      "  return symbol_frequency / att_val_frequency, mutual_information\n",
      "c:\\Users\\rvver\\Documents\\CodeThesis\\emergent-abstractions\\utils\\analysis_from_interaction.py:443: RuntimeWarning: invalid value encountered in divide\n",
      "  return symbol_frequency / att_val_frequency, mutual_information\n",
      "c:\\Users\\rvver\\Documents\\CodeThesis\\emergent-abstractions\\utils\\analysis_from_interaction.py:443: RuntimeWarning: invalid value encountered in divide\n",
      "  return symbol_frequency / att_val_frequency, mutual_information\n",
      "c:\\Users\\rvver\\Documents\\CodeThesis\\emergent-abstractions\\utils\\analysis_from_interaction.py:443: RuntimeWarning: invalid value encountered in divide\n",
      "  return symbol_frequency / att_val_frequency, mutual_information\n"
     ]
    }
   ],
   "source": [
    "for d in range(len(datasets)):\n",
    "    \n",
    "    attributes = n_attributes[d]\n",
    "    values = n_values[d]\n",
    "    vs_factor = int(paths[d][-2])\n",
    "    vocab_size = (n_values[d] + 1) * vs_factor + 1\n",
    "    \n",
    "    for run in range(5): \n",
    "        \n",
    "        path_to_run = paths[d] + str(setting) +'/' + str(run) + '/'\n",
    "        #symbol_f = np.load(path_to_run + 'symbols_pernsame.npy')\n",
    "        #path_to_interaction = (path_to_run + 'interactions/train/interactions_epoch' + str(n_epochs))\n",
    "        path_to_interaction = (path_to_run + 'interactions/train/epoch_' + str(n_epochs) + '/interaction_gpu0')\n",
    "        interaction = torch.load(path_to_interaction)\n",
    "        redundancy, MI = symbol_frequency(interaction, attributes, values, vocab_size)\n",
    "        \n",
    "        scores = {'symbol_redundancy': redundancy, 'MI_symbol-attribute_value': MI}\n",
    "        \n",
    "        pickle.dump(scores, open(path_to_run + 'symbol_redundancy.pkl', 'wb'))"
   ]
  },
  {
   "attachments": {},
   "cell_type": "markdown",
   "metadata": {},
   "source": [
    "###  compositionality scores: topsim, posdis, bosdis"
   ]
  },
  {
   "cell_type": "code",
   "execution_count": 13,
   "metadata": {
    "ExecuteTime": {
     "start_time": "2023-11-30T10:59:18.920681Z"
    },
    "scrolled": true
   },
   "outputs": [
    {
     "name": "stdout",
     "output_type": "stream",
     "text": [
      "dataset (3,4) run 0\n",
      "... topsim computed\n",
      "... topsim computed\n",
      "{'topsim_train': 0.4053686848966944, 'topsim_specific_train': 0.46826182469130584, 'topsim_generic_train': 0.23631845246094896, 'topsim_val': 0.3871912617257834, 'topsim_specific_val': 0.4742402912865556, 'topsim_generic_val': 0.18310982757624067}\n",
      "dataset (3,4) run 1\n",
      "... topsim computed\n",
      "... topsim computed\n",
      "{'topsim_train': 0.3260413574320646, 'topsim_specific_train': 0.4240040807878953, 'topsim_generic_train': 0.256973882943923, 'topsim_val': 0.2989427130658574, 'topsim_specific_val': 0.40092034777108715, 'topsim_generic_val': 0.16646259657142157}\n",
      "dataset (3,4) run 2\n",
      "... topsim computed\n",
      "... topsim computed\n",
      "{'topsim_train': 0.31450582420267054, 'topsim_specific_train': 0.40003469906323014, 'topsim_generic_train': 0.1973183947562213, 'topsim_val': 0.30361565049139017, 'topsim_specific_val': 0.3834351702984578, 'topsim_generic_val': 0.13639342923640635}\n",
      "dataset (3,4) run 3\n",
      "... topsim computed\n",
      "... topsim computed\n",
      "{'topsim_train': 0.2783527545938422, 'topsim_specific_train': 0.35785139370439956, 'topsim_generic_train': 0.27287551497173873, 'topsim_val': 0.27056236899532377, 'topsim_specific_val': 0.36917077555095146, 'topsim_generic_val': 0.1895413046393013}\n",
      "dataset (3,4) run 4\n",
      "... topsim computed\n",
      "... topsim computed\n",
      "{'topsim_train': 0.38626794923652363, 'topsim_specific_train': 0.4342044824283521, 'topsim_generic_train': 0.3532895322475524, 'topsim_val': 0.40339204456465355, 'topsim_specific_val': 0.4617167537965614, 'topsim_generic_val': 0.4394051239270788}\n"
     ]
    }
   ],
   "source": [
    "# topsim\n",
    "# although topsim values are stored throughout training if callbacks are verbose, we reevaluate the\n",
    "# final topsim scores with more data points \n",
    "\n",
    "samples = 5000 # maybe shuffle from these because otherwise I just take the first 5,000 (which might not be the best)\n",
    "for d, dataset in enumerate(datasets):\n",
    "    \n",
    "    dim = [n_values[d]]*n_attributes[d]\n",
    "    \n",
    "    for run in range(5):\n",
    "        print(\"dataset\", dataset, \"run\", run)\n",
    "        \n",
    "        topsim_final = {}\n",
    "        path_to_run = paths[d] + str(setting) +'/' + str(run) + '/'\n",
    "        path_to_interaction_train = (path_to_run + 'interactions/train/epoch_' + str(n_epochs) + '/interaction_gpu0')\n",
    "        path_to_interaction_val = (path_to_run + 'interactions/validation/epoch_' + str(n_epochs) + '/interaction_gpu0')\n",
    "        \n",
    "        TOPSIM = TopographicSimilarityConceptLevel(dim, is_gumbel=True)\n",
    "        \n",
    "        for mode in ['train', 'val']:\n",
    "\n",
    "            if mode == 'train':\n",
    "                interaction = torch.load(path_to_interaction_train)\n",
    "            elif mode == 'val':\n",
    "                interaction = torch.load(path_to_interaction_val)\n",
    "                \n",
    "                  \n",
    "            messages = interaction.message.argmax(dim=-1)\n",
    "            sender_input = interaction.sender_input\n",
    "            n_targets = int(sender_input.shape[1]/2)\n",
    "            # get target objects and fixed vectors to re-construct concepts\n",
    "            target_objects = sender_input[:, :n_targets]\n",
    "            target_objects = k_hot_to_attributes(target_objects, n_values[d])\n",
    "            # concepts are defined by a list of target objects (here one sampled target object) and a fixed vector\n",
    "            (objects, fixed) = retrieve_concepts_sampling(target_objects)\n",
    "            # add one such that zero becomes an empty attribute for the calculation (_)\n",
    "            objects = objects + 1\n",
    "            concepts = torch.from_numpy(objects * (np.array(fixed)))\n",
    "            specific_idx = np.where(np.sum(fixed, axis=1)==n_attributes[d])[0]\n",
    "            messages_specific = messages[specific_idx]\n",
    "            concepts_specific = concepts[specific_idx]\n",
    "            \n",
    "            generic_idx = np.where(np.sum(fixed, axis=1)==1)[0]\n",
    "            messages_generic = messages[generic_idx]\n",
    "            concepts_generic = concepts[generic_idx]\n",
    "\n",
    "            messages = [msg.tolist() for msg in messages]\n",
    "            messages_specific = [msg.tolist() for msg in messages_specific]\n",
    "            messages_generic = [msg.tolist() for msg in messages_generic]\n",
    "\n",
    "            encoded_input = encode_target_concepts_for_topsim(sender_input)\n",
    "            # randomly take samples when more than 5000 samples are available\n",
    "            # if len(encoded_input) > samples: \n",
    "            #     print(\"sampling\")\n",
    "            #     sample_indices = random.sample(range(len(encoded_input)), samples)\n",
    "            #     sampled_input = [encoded_input[i] for i in sample_indices]\n",
    "            #     sampled_messages = [messages[i] for i in sample_indices]\n",
    "            #     print(\"start computing\")\n",
    "            #     print(len(sampled_input), len(sampled_input[0]), len(sampled_input[0][0]))\n",
    "            #     topsim = TOPSIM.compute_topsim(sampled_input, sampled_messages)\n",
    "            # else:\n",
    "            topsim = TOPSIM.compute_topsim(encoded_input[0:samples], messages[0:samples]) # default: hausdorff distance for concepts, edit distance for messages\n",
    "            # if len(concepts_specific) > samples:\n",
    "            #     print(\"sampling specific\")\n",
    "            #     sample_indices_specific = random.sample(range(len(concepts_specific)), samples)\n",
    "            #     sampled_input_specific = [concepts_specific[i] for i in sample_indices_specific]\n",
    "            #     sampled_messages_specific = [messages_specific[i] for i in sample_indices_specific]\n",
    "            #     topsim_specific = TOPSIM.compute_topsim(sampled_input_specific, sampled_messages_specific, \n",
    "            #                                             meaning_distance_fn=\"edit\")\n",
    "            # else:\n",
    "            topsim_specific = TOPSIM.compute_topsim(concepts_specific[0:samples], messages_specific[0:samples], \n",
    "                                                        meaning_distance_fn=\"edit\")\n",
    "            \n",
    "            topsim_generic = TOPSIM.compute_topsim(concepts_generic[0:samples], messages_generic[0:samples],\n",
    "                                                   meaning_distance_fn=\"edit\")\n",
    "\n",
    "            print('... topsim computed')\n",
    "\n",
    "            topsim_final['topsim_' + mode] = topsim\n",
    "            topsim_final['topsim_specific_' + mode] = topsim_specific\n",
    "            topsim_final['topsim_generic_' + mode] = topsim_generic\n",
    "    \n",
    "        pickle.dump(topsim_final, open(path_to_run +  \"topsim_final.pkl\", \"wb\" ) )\n",
    "        print(topsim_final)        "
   ]
  },
  {
   "cell_type": "code",
   "execution_count": 14,
   "metadata": {
    "ExecuteTime": {
     "end_time": "2023-11-30T10:59:18.922051Z",
     "start_time": "2023-11-30T10:59:18.921839Z"
    }
   },
   "outputs": [
    {
     "name": "stdout",
     "output_type": "stream",
     "text": [
      "data set [4, 4, 4]\n",
      "{'posdis_specific': 0.09884431213140488, 'bosdis_specific': 0.21407409012317657, 'posdis_generic': 0.06809589266777039, 'bosdis_generic': 0.18087729811668396, 'posdis': 0.06690862029790878, 'bosdis': 0.18777218461036682}\n",
      "{'posdis_specific': 0.03024621494114399, 'bosdis_specific': 0.2141767144203186, 'posdis_generic': 0.01766969822347164, 'bosdis_generic': 0.13220268487930298, 'posdis': 0.06220446154475212, 'bosdis': 0.1849241852760315}\n",
      "{'posdis_specific': 0.03935683146119118, 'bosdis_specific': 0.16228920221328735, 'posdis_generic': 0.04953340068459511, 'bosdis_generic': 0.133585587143898, 'posdis': 0.03101786971092224, 'bosdis': 0.15981753170490265}\n",
      "{'posdis_specific': 0.11684542894363403, 'bosdis_specific': 0.1782202571630478, 'posdis_generic': 0.022217100486159325, 'bosdis_generic': 0.1214355006814003, 'posdis': 0.1026143804192543, 'bosdis': 0.1469689905643463}\n",
      "{'posdis_specific': 0.07545402646064758, 'bosdis_specific': 0.20166254043579102, 'posdis_generic': 0.07694258540868759, 'bosdis_generic': 0.16391000151634216, 'posdis': 0.051997944712638855, 'bosdis': 0.1761535108089447}\n"
     ]
    }
   ],
   "source": [
    "# use Disent callback from egg\n",
    "\n",
    "for d in range(len(datasets)): \n",
    "    \n",
    "    path = paths[d]\n",
    "    dim = [n_values[d]] * n_attributes[d]\n",
    "    n_features = n_attributes[d] * n_values[d]\n",
    "    vs_factor = int(path[-2])\n",
    "    vocab_size = (n_values[d] + 1) * vs_factor + 1\n",
    "    \n",
    "    print(\"data set\", dim)\n",
    "    \n",
    "    for run in range(5):\n",
    "        \n",
    "        posdis_bosdis = {}\n",
    "    \n",
    "        path_to_run = paths[d] + '/' + str(setting) +'/' + str(run) + '/'\n",
    "        path_to_interaction_train = (path_to_run + 'interactions/train/epoch_' + str(n_epochs) + '/interaction_gpu0')\n",
    "        interaction = torch.load(path_to_interaction_train)\n",
    "        \n",
    "        messages = interaction.message.argmax(dim=-1)\n",
    "        sender_input = interaction.sender_input\n",
    "        n_targets = int(sender_input.shape[1]/2)\n",
    "        # get target objects and fixed vectors to re-construct concepts\n",
    "        target_objects = sender_input[:, :n_targets]\n",
    "        target_objects = k_hot_to_attributes(target_objects, n_values[d])\n",
    "        # concepts are defined by a list of target objects (here one sampled target object) and a fixed vector\n",
    "        (objects, fixed) = retrieve_concepts_sampling(target_objects)\n",
    "        # add one such that zero becomes an empty attribute for the calculation (_)\n",
    "        objects = objects + 1\n",
    "        concepts = torch.from_numpy(objects * (np.array(fixed)))\n",
    "\n",
    "        # concrete/specific concepts: where all attributes are fixed\n",
    "        concepts_specific = torch.tensor(\n",
    "            objects[torch.sum(torch.from_numpy(fixed), dim=1) == n_attributes[d]])\n",
    "        messages_specific = messages[torch.sum(torch.from_numpy(fixed), dim=1) == n_attributes[d]]\n",
    "\n",
    "        # generic concepts: where only one attribute is fixed\n",
    "        concepts_generic = torch.tensor(\n",
    "            objects[torch.sum(torch.from_numpy(fixed), dim=1) == 1])\n",
    "        messages_generic = messages[torch.sum(torch.from_numpy(fixed), dim=1) == 1]\n",
    "        \n",
    "        posdis_specific = Disent.posdis(concepts_specific, messages_specific)\n",
    "        bosdis_specific = Disent.bosdis(concepts_specific, messages_specific, vocab_size)\n",
    "\n",
    "        posdis_generic = Disent.posdis(concepts_generic, messages_generic)\n",
    "        bosdis_generic = Disent.bosdis(concepts_generic, messages_generic, vocab_size)\n",
    "        \n",
    "        posdis = Disent.posdis(torch.from_numpy(objects), messages)\n",
    "        bosdis = Disent.bosdis(torch.from_numpy(objects), messages, vocab_size)\n",
    "        \n",
    "        posdis_bosdis['posdis_specific'] = posdis_specific\n",
    "        posdis_bosdis['bosdis_specific'] = bosdis_specific\n",
    "        posdis_bosdis['posdis_generic'] = posdis_generic\n",
    "        posdis_bosdis['bosdis_generic'] = bosdis_generic\n",
    "        posdis_bosdis['posdis'] = posdis\n",
    "        posdis_bosdis['bosdis'] = bosdis\n",
    "\n",
    "        print(posdis_bosdis)\n",
    "    \n",
    "        pickle.dump(posdis_bosdis, open(path_to_run + \"posdis_bosdis.pkl\", \"wb\" ) )"
   ]
  },
  {
   "cell_type": "code",
   "execution_count": 4,
   "metadata": {
    "ExecuteTime": {
     "start_time": "2023-11-30T10:59:18.923128Z"
    }
   },
   "outputs": [],
   "source": [
    "# bosdis concept x context\n",
    "for d in range(len(datasets)):\n",
    "\n",
    "    vs_factor = int(paths[d][-2])\n",
    "    vocab_size = (n_values[d] + 1) * vs_factor + 1\n",
    "    \n",
    "    for run in range(5):\n",
    "\n",
    "        path_to_run = paths[d] + '/' + str(setting) +'/' + str(run) + '/' \n",
    "        path_to_interaction = (path_to_run + 'interactions/train/epoch_' + str(n_epochs) + '/interaction_gpu0')\n",
    "        interaction = torch.load(path_to_interaction)\n",
    "\n",
    "        attributes = n_attributes[d]\n",
    "        values = n_values[d]\n",
    "        scores = bosdis(interaction, attributes, values, vocab_size)\n",
    "\n",
    "        pickle.dump(scores, open(path_to_run + 'bosdis_scores.pkl', 'wb'))"
   ]
  },
  {
   "cell_type": "code",
   "execution_count": 5,
   "metadata": {
    "ExecuteTime": {
     "end_time": "2023-11-30T12:27:11.315903Z",
     "start_time": "2023-11-30T12:22:23.563762Z"
    },
    "collapsed": false
   },
   "outputs": [
    {
     "name": "stdout",
     "output_type": "stream",
     "text": [
      "results/(3,4)_game_size_10_vsf_3//standard/0/\n",
      "results/(3,4)_game_size_10_vsf_3//standard/1/\n",
      "results/(3,4)_game_size_10_vsf_3//standard/2/\n",
      "results/(3,4)_game_size_10_vsf_3//standard/3/\n",
      "results/(3,4)_game_size_10_vsf_3//standard/4/\n"
     ]
    }
   ],
   "source": [
    "# posdis concept x context\n",
    "for d in range(len(datasets)):\n",
    "\n",
    "    vs_factor = int(paths[d][-2])\n",
    "    vocab_size = (n_values[d] + 1) * vs_factor + 1\n",
    "\n",
    "    for run in range(5):\n",
    "        path_to_run = paths[d] + '/' + str(setting) + '/' + str(run) + '/'\n",
    "        print(path_to_run)\n",
    "        path_to_interaction = (path_to_run + 'interactions/train/epoch_' + str(n_epochs) + '/interaction_gpu0')\n",
    "        #print(path_to_interaction)\n",
    "        interaction = torch.load(path_to_interaction)\n",
    "\n",
    "        attributes = n_attributes[d]\n",
    "        values = n_values[d]\n",
    "        scores = posdis(interaction, attributes, values, vocab_size)\n",
    "\n",
    "        pickle.dump(scores, open(path_to_run + 'posdis_scores.pkl', 'wb'))"
   ]
  },
  {
   "attachments": {},
   "cell_type": "markdown",
   "metadata": {},
   "source": [
    "### co-occurrences"
   ]
  },
  {
   "cell_type": "code",
   "execution_count": null,
   "metadata": {},
   "outputs": [],
   "source": [
    "# Not yet implemented:\n",
    "\n",
    "for d in range(len(datasets)):\n",
    "    \n",
    "    vs_factor = int(paths[d][-2])\n",
    "    \n",
    "    for run in range(5): \n",
    "        \n",
    "        path_to_run = paths[d] + str(setting) +'/' + str(run) + '/'\n",
    "        path_to_interaction = (path_to_run + 'interactions/train/epoch_' + str(n_epochs) + '/interaction_gpu0')\n",
    "        interaction = torch.load(path_to_interaction)\n",
    "\n",
    "        attributes = n_attributes[d]\n",
    "        values = n_values[d]\n",
    "        \n",
    "        scores = cooccurrence_per_hierarchy_level(interaction, attributes, values, vs_factor)\n",
    "\n",
    "        print(scores)\n",
    "        \n",
    "        pickle.dump(scores, open(path_to_run + 'normalized_cooccurrence.pkl', 'wb'))\n",
    "    "
   ]
  },
  {
   "cell_type": "code",
   "execution_count": null,
   "metadata": {},
   "outputs": [],
   "source": []
  }
 ],
 "metadata": {
  "kernelspec": {
   "display_name": "Python 3 (ipykernel)",
   "language": "python",
   "name": "python3"
  },
  "language_info": {
   "codemirror_mode": {
    "name": "ipython",
    "version": 3
   },
   "file_extension": ".py",
   "mimetype": "text/x-python",
   "name": "python",
   "nbconvert_exporter": "python",
   "pygments_lexer": "ipython3",
   "version": "3.9.18"
  }
 },
 "nbformat": 4,
 "nbformat_minor": 4
}
